{
 "cells": [
  {
   "cell_type": "code",
   "execution_count": 1,
   "metadata": {},
   "outputs": [],
   "source": [
    "import numpy as np"
   ]
  },
  {
   "cell_type": "markdown",
   "metadata": {},
   "source": [
    "**Шарики для подшипников, изготовленные автоматическим станком, имеют средний диаметр 17 мм.\n",
    "Проверить эту гипотезу, если в выборке из n=100 шариков средний диаметр\n",
    "оказался равным 17.5 мм,дисперсия известна и равна 4 кв.мм, α=0.05**"
   ]
  },
  {
   "cell_type": "code",
   "execution_count": 2,
   "metadata": {},
   "outputs": [],
   "source": [
    "M0, M, D, n = 17, 17.5, 4, 100\n",
    "S = np.sqrt(D)\n",
    "alph = 0.05"
   ]
  },
  {
   "cell_type": "markdown",
   "metadata": {},
   "source": [
    "По таблице Z-значений Z0 = 1.645"
   ]
  },
  {
   "cell_type": "code",
   "execution_count": 3,
   "metadata": {},
   "outputs": [],
   "source": [
    "Z0 = 1.645"
   ]
  },
  {
   "cell_type": "markdown",
   "metadata": {},
   "source": [
    "* **H0 : M<sub>и</sub>= M1**\n",
    "* **H1 : M<sub>и</sub> > M1**"
   ]
  },
  {
   "cell_type": "code",
   "execution_count": 4,
   "metadata": {},
   "outputs": [
    {
     "data": {
      "text/plain": [
       "True"
      ]
     },
     "execution_count": 4,
     "metadata": {},
     "output_type": "execute_result"
    }
   ],
   "source": [
    "Z1 = (M - M0)/(S/np.sqrt(n))\n",
    "Z1 > Z0"
   ]
  },
  {
   "cell_type": "markdown",
   "metadata": {},
   "source": [
    "#### Z1 > Z0\n",
    "\n",
    "**H0 отвергается**\n",
    "\n",
    "Доверительные интервалы:"
   ]
  },
  {
   "cell_type": "code",
   "execution_count": 5,
   "metadata": {},
   "outputs": [
    {
     "data": {
      "text/plain": [
       "[17.171, 17.829]"
      ]
     },
     "execution_count": 5,
     "metadata": {},
     "output_type": "execute_result"
    }
   ],
   "source": [
    "interval = [M - 1.645*(np.sqrt(D)/np.sqrt(n)),\n",
    "          M + 1.645*(np.sqrt(D)/np.sqrt(n))]\n",
    "interval"
   ]
  },
  {
   "cell_type": "markdown",
   "metadata": {},
   "source": [
    "**Утверждается, что средний вес изделия равен 200 г.\n",
    "Извлечена выборка из 10 изделий. Вес каждого изделия составляет:\n",
    "202, 203, 199, 197, 195, 201, 200, 204, 194, 190.\n",
    "Известно, что их веса распределены нормально.**\n",
    "\n",
    "**Проверить утверждение при доверительной вероятности 0.99**"
   ]
  },
  {
   "cell_type": "code",
   "execution_count": 6,
   "metadata": {},
   "outputs": [],
   "source": [
    "X = [202, 203, 199, 197, 195, 201, 200, 204, 194, 190]\n",
    "M0 = np.mean(X)\n",
    "M = 200\n",
    "n = 10 \n",
    "alph = 0.01"
   ]
  },
  {
   "cell_type": "markdown",
   "metadata": {},
   "source": [
    "* **H0 : M<sub>и</sub> = M1**\n",
    "* **H1 : M<sub>и</sub> &ne; M1**"
   ]
  },
  {
   "cell_type": "code",
   "execution_count": 7,
   "metadata": {},
   "outputs": [],
   "source": [
    "import scipy\n",
    "from scipy.stats import t, ttest_1samp"
   ]
  },
  {
   "cell_type": "code",
   "execution_count": 8,
   "metadata": {},
   "outputs": [
    {
     "name": "stdout",
     "output_type": "stream",
     "text": [
      "Интервал [-3.2498355440153697, 3.2498355440153697]\n",
      "t-критерий -1.0651074037450896\n"
     ]
    }
   ],
   "source": [
    "T = t.ppf((1 + 1 - alph)/2, n - 1)\n",
    "print(f'Интервал {[-T,T]}')\n",
    "t_t,p = ttest_1samp(X,200)\n",
    "print(f't-критерий {t_t}')"
   ]
  },
  {
   "cell_type": "markdown",
   "metadata": {},
   "source": [
    "#### Значение t-критерия входит в интервал [-3.2498355440153697, 3.2498355440153697] > H0 принимается"
   ]
  },
  {
   "cell_type": "code",
   "execution_count": null,
   "metadata": {},
   "outputs": [],
   "source": []
  }
 ],
 "metadata": {
  "kernelspec": {
   "display_name": "Python 3",
   "language": "python",
   "name": "python3"
  },
  "language_info": {
   "codemirror_mode": {
    "name": "ipython",
    "version": 3
   },
   "file_extension": ".py",
   "mimetype": "text/x-python",
   "name": "python",
   "nbconvert_exporter": "python",
   "pygments_lexer": "ipython3",
   "version": "3.8.4"
  }
 },
 "nbformat": 4,
 "nbformat_minor": 4
}
