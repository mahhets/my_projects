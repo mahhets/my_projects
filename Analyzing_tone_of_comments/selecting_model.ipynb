{
 "cells": [
  {
   "cell_type": "code",
   "execution_count": 1,
   "metadata": {},
   "outputs": [
    {
     "name": "stderr",
     "output_type": "stream",
     "text": [
      "[nltk_data] Downloading package stopwords to\n",
      "[nltk_data]     C:\\Users\\mahhets\\AppData\\Roaming\\nltk_data...\n",
      "[nltk_data]   Package stopwords is already up-to-date!\n"
     ]
    }
   ],
   "source": [
    "import pandas as pd\n",
    "import numpy as np\n",
    "import matplotlib.pyplot as plt\n",
    "import nltk\n",
    "from nltk.corpus import stopwords\n",
    "import dill\n",
    "import re\n",
    "from razdel import tokenize\n",
    "import pymorphy2\n",
    "from sklearn.pipeline import Pipeline, make_pipeline, FeatureUnion\n",
    "from sklearn.base import BaseEstimator, TransformerMixin\n",
    "from sklearn.feature_extraction.text import TfidfVectorizer\n",
    "\n",
    "from sklearn.model_selection import cross_val_score, train_test_split\n",
    "from sklearn.metrics import roc_auc_score\n",
    "#from pymystem3 import Mystem\n",
    "nltk.download('stopwords')\n",
    "stopword_ru = stopwords.words('russian')\n",
    "df = pd.read_csv('labeled.csv')"
   ]
  },
  {
   "cell_type": "code",
   "execution_count": 2,
   "metadata": {},
   "outputs": [
    {
     "data": {
      "text/html": [
       "<div>\n",
       "<style scoped>\n",
       "    .dataframe tbody tr th:only-of-type {\n",
       "        vertical-align: middle;\n",
       "    }\n",
       "\n",
       "    .dataframe tbody tr th {\n",
       "        vertical-align: top;\n",
       "    }\n",
       "\n",
       "    .dataframe thead th {\n",
       "        text-align: right;\n",
       "    }\n",
       "</style>\n",
       "<table border=\"1\" class=\"dataframe\">\n",
       "  <thead>\n",
       "    <tr style=\"text-align: right;\">\n",
       "      <th></th>\n",
       "      <th>comment</th>\n",
       "      <th>toxic</th>\n",
       "    </tr>\n",
       "  </thead>\n",
       "  <tbody>\n",
       "    <tr>\n",
       "      <th>0</th>\n",
       "      <td>Верблюдов-то за что? Дебилы, бл...\\n</td>\n",
       "      <td>1.0</td>\n",
       "    </tr>\n",
       "    <tr>\n",
       "      <th>1</th>\n",
       "      <td>Хохлы, это отдушина затюканого россиянина, мол...</td>\n",
       "      <td>1.0</td>\n",
       "    </tr>\n",
       "    <tr>\n",
       "      <th>2</th>\n",
       "      <td>Собаке - собачья смерть\\n</td>\n",
       "      <td>1.0</td>\n",
       "    </tr>\n",
       "  </tbody>\n",
       "</table>\n",
       "</div>"
      ],
      "text/plain": [
       "                                             comment  toxic\n",
       "0               Верблюдов-то за что? Дебилы, бл...\\n    1.0\n",
       "1  Хохлы, это отдушина затюканого россиянина, мол...    1.0\n",
       "2                          Собаке - собачья смерть\\n    1.0"
      ]
     },
     "execution_count": 2,
     "metadata": {},
     "output_type": "execute_result"
    }
   ],
   "source": [
    "df.head(3)"
   ]
  },
  {
   "cell_type": "code",
   "execution_count": 3,
   "metadata": {},
   "outputs": [
    {
     "name": "stdout",
     "output_type": "stream",
     "text": [
      "<class 'pandas.core.frame.DataFrame'>\n",
      "RangeIndex: 14412 entries, 0 to 14411\n",
      "Data columns (total 2 columns):\n",
      " #   Column   Non-Null Count  Dtype  \n",
      "---  ------   --------------  -----  \n",
      " 0   comment  14412 non-null  object \n",
      " 1   toxic    14412 non-null  float64\n",
      "dtypes: float64(1), object(1)\n",
      "memory usage: 225.3+ KB\n"
     ]
    }
   ],
   "source": [
    "df.info()"
   ]
  },
  {
   "cell_type": "code",
   "execution_count": 4,
   "metadata": {},
   "outputs": [
    {
     "data": {
      "text/html": [
       "<div>\n",
       "<style scoped>\n",
       "    .dataframe tbody tr th:only-of-type {\n",
       "        vertical-align: middle;\n",
       "    }\n",
       "\n",
       "    .dataframe tbody tr th {\n",
       "        vertical-align: top;\n",
       "    }\n",
       "\n",
       "    .dataframe thead th {\n",
       "        text-align: right;\n",
       "    }\n",
       "</style>\n",
       "<table border=\"1\" class=\"dataframe\">\n",
       "  <thead>\n",
       "    <tr style=\"text-align: right;\">\n",
       "      <th></th>\n",
       "      <th>toxic</th>\n",
       "    </tr>\n",
       "  </thead>\n",
       "  <tbody>\n",
       "    <tr>\n",
       "      <th>count</th>\n",
       "      <td>14412.000000</td>\n",
       "    </tr>\n",
       "    <tr>\n",
       "      <th>mean</th>\n",
       "      <td>0.334860</td>\n",
       "    </tr>\n",
       "    <tr>\n",
       "      <th>std</th>\n",
       "      <td>0.471958</td>\n",
       "    </tr>\n",
       "    <tr>\n",
       "      <th>min</th>\n",
       "      <td>0.000000</td>\n",
       "    </tr>\n",
       "    <tr>\n",
       "      <th>25%</th>\n",
       "      <td>0.000000</td>\n",
       "    </tr>\n",
       "    <tr>\n",
       "      <th>50%</th>\n",
       "      <td>0.000000</td>\n",
       "    </tr>\n",
       "    <tr>\n",
       "      <th>75%</th>\n",
       "      <td>1.000000</td>\n",
       "    </tr>\n",
       "    <tr>\n",
       "      <th>max</th>\n",
       "      <td>1.000000</td>\n",
       "    </tr>\n",
       "  </tbody>\n",
       "</table>\n",
       "</div>"
      ],
      "text/plain": [
       "              toxic\n",
       "count  14412.000000\n",
       "mean       0.334860\n",
       "std        0.471958\n",
       "min        0.000000\n",
       "25%        0.000000\n",
       "50%        0.000000\n",
       "75%        1.000000\n",
       "max        1.000000"
      ]
     },
     "execution_count": 4,
     "metadata": {},
     "output_type": "execute_result"
    }
   ],
   "source": [
    "df.describe()"
   ]
  },
  {
   "cell_type": "code",
   "execution_count": 5,
   "metadata": {},
   "outputs": [
    {
     "data": {
      "image/png": "[encoded data removed]",
      "text/plain": [
       "<Figure size 432x288 with 1 Axes>"
      ]
     },
     "metadata": {
      "needs_background": "light"
     },
     "output_type": "display_data"
    }
   ],
   "source": [
    "gdf = df.groupby('toxic').describe()\n",
    "plt.bar('Не токсичные',gdf['comment']['count'][0], label = 'Не токсичные', color = 'blue')\n",
    "plt.bar('Токсичные',gdf['comment']['count'][1], label = 'Токсичные', color = 'red')\n",
    "plt.ylabel('Кол-во комментариев')\n",
    "plt.show()"
   ]
  },
  {
   "cell_type": "code",
   "execution_count": 6,
   "metadata": {},
   "outputs": [],
   "source": [
    "# Допустим, что данных стоп-слов не достаточно, тогда можно добавить свои стоп-слова\n",
    "with open('stopwords.txt') as f:\n",
    "    adittional_stopwords = [w.strip() for w in f.readlines()if w]\n",
    "stopword_ru += adittional_stopwords"
   ]
  },
  {
   "cell_type": "markdown",
   "metadata": {},
   "source": [
    "### Напишем класс для выбора атрибута"
   ]
  },
  {
   "cell_type": "code",
   "execution_count": 7,
   "metadata": {},
   "outputs": [],
   "source": [
    "class FeatureSelector(BaseEstimator, TransformerMixin):\n",
    "    \"\"\"\n",
    "    Отвечает за выбор признака. В конкретном решении можно обойтись без него\n",
    "    \"\"\"\n",
    "    \n",
    "    def __init__(self, column):\n",
    "        self.column = column\n",
    "\n",
    "    def fit(self, X, y=None):\n",
    "        return self\n",
    "\n",
    "    def transform(self, X, y=None):\n",
    "        return X[[self.column]]"
   ]
  },
  {
   "cell_type": "markdown",
   "metadata": {},
   "source": [
    "### Напишем классы для очистки текста\n",
    "\n",
    "1. Стандартная очистка текста от сложноинтепретируемых значений"
   ]
  },
  {
   "cell_type": "code",
   "execution_count": 8,
   "metadata": {},
   "outputs": [],
   "source": [
    "class Cleaner(BaseEstimator, TransformerMixin):\n",
    "    def __init__(self,column):\n",
    "        self.column = column\n",
    "        \n",
    "    @staticmethod\n",
    "    def clean_text(text):\n",
    "        if not isinstance(text, str):\n",
    "            text = str(text)\n",
    "        \n",
    "        text = text.lower() # делаем все буквы маленькими\n",
    "        text = text.strip('\\n').strip('\\r').strip('\\t') # удаляет начальные и конечные символы в строке\n",
    "        text = re.sub(\"-\",' ',str(text))\n",
    "        text = re.sub(\"-\\s\\r\\n\\|-\\s\\r\\n|\\r\\n\", '', str(text)) # re.sub ищет шаблон в подстроке и заменяет его на строку\n",
    "        text = re.sub(\"[0-9]|[-—.,:;_%©«»?*!@#№$^•·&()]|[+=]|[[]|[]]|[/]|\", '', text)\n",
    "        text = re.sub(r\"\\r\\n\\t|\\n|\\\\s|\\r\\t|\\\\n\", ' ', text)\n",
    "        text = re.sub(r'[\\xad]|[\\s+]', ' ', text.strip())\n",
    "        text = re.sub(\"\\n\", ' ', text)\n",
    "        stopword_ru = stopwords.words('russian')\n",
    "        tokens = list(tokenize(text))\n",
    "        words = [_.text for _ in tokens]\n",
    "        words = [w for w in words if w not in stopword_ru]\n",
    "    \n",
    "        return \" \".join(words)\n",
    "    \n",
    "    def fit(self, X, y= None):\n",
    "        return self\n",
    "    \n",
    "    def transform(self, X, y = None):\n",
    "        X[self.column] = X[self.column].apply(lambda x: self.clean_text(x),1)\n",
    "        return X[[self.column]]"
   ]
  },
  {
   "cell_type": "markdown",
   "metadata": {},
   "source": [
    "2. Для нормализации слов мною был сделан выбор в пользу **лемматизации**.\n",
    "В отличии от **стемминга**(грубая форма, попытается отбросить суффиксы и т.д.), лемматизация превращает различные формы слов в меньшее кол-во вариантов этих слов с **минимум потери смысловой нагрузки**."
   ]
  },
  {
   "cell_type": "code",
   "execution_count": 9,
   "metadata": {},
   "outputs": [],
   "source": [
    "class Lemma(BaseEstimator, TransformerMixin):\n",
    "\n",
    "    def __init__(self, column):\n",
    "        self.column = column\n",
    "        self.cache = {}\n",
    "        self.morph = pymorphy2.MorphAnalyzer()\n",
    "        self.stopword_ru = stopwords.words('russian')\n",
    "    \n",
    "    def lemmatization(self,text):\n",
    "\n",
    "        if not isinstance(text, str):\n",
    "            text = str(text)\n",
    "    \n",
    "        tokens = list(tokenize(text))\n",
    "        words = [_.text for _ in tokens]\n",
    "\n",
    "        words_lem = []\n",
    "        for w in words:\n",
    "            if w[0] == '-': \n",
    "                w = w[1:]\n",
    "            if len(w)>1: \n",
    "                if w in self.cache: \n",
    "                    words_lem.append(self.cache[w])\n",
    "                else: \n",
    "                    temp_cach = self.cache[w] = self.morph.parse(w)[0].normal_form\n",
    "                    words_lem.append(temp_cach)\n",
    "    \n",
    "        words_lem_without_stopwords=[i for i in words_lem if not i in self.stopword_ru] \n",
    "    \n",
    "        return ' '.join(list(words_lem_without_stopwords))\n",
    "    \n",
    "    def fit(self, X, y = None):\n",
    "        return self\n",
    "    \n",
    "    def transform(self, X, y = None):\n",
    "        X[self.column] = X[self.column].apply(lambda x: self.lemmatization(x),1)\n",
    "        return X[self.column].values.astype('U')"
   ]
  },
  {
   "cell_type": "markdown",
   "metadata": {},
   "source": [
    "### Создадим пайплайны для 4 классификаторов:\n",
    "- MultinomialNB\n",
    "- RandomForestClassifier\n",
    "- LogisticRegression\n",
    "- SGDClassifier"
   ]
  },
  {
   "cell_type": "code",
   "execution_count": 10,
   "metadata": {},
   "outputs": [],
   "source": [
    "from sklearn.naive_bayes import MultinomialNB\n",
    "from sklearn.ensemble import RandomForestClassifier\n",
    "from sklearn.linear_model import LogisticRegression\n",
    "from sklearn.linear_model import SGDClassifier"
   ]
  },
  {
   "cell_type": "code",
   "execution_count": 11,
   "metadata": {},
   "outputs": [],
   "source": [
    "classifier_1 = Pipeline([('selector', FeatureSelector(column='comment')),\n",
    "                         ('cleaner', Cleaner(column='comment')),\n",
    "                         ('lemma', Lemma(column='comment')),\n",
    "                         ('tfidf', TfidfVectorizer(sublinear_tf=True,\n",
    "                                                            strip_accents='unicode',\n",
    "                                                            analyzer='word', # аналитика по словам\n",
    "                                                            token_pattern=r'\\w{1,}', # выдергиваем разделители\n",
    "                                                # длина ngram(ngram - смотрим на последовательности слов длиной 1 с шагом 1)\n",
    "                                                            ngram_range=(1, 1), \n",
    "                                                            max_features=10000)),\n",
    "                         ('clf', MultinomialNB())])\n",
    "\n",
    "classifier_2 = Pipeline([('selector', FeatureSelector(column='comment')),\n",
    "                         ('cleaner', Cleaner(column='comment')),\n",
    "                         ('lemma', Lemma(column='comment')),\n",
    "                         ('tfidf', TfidfVectorizer(sublinear_tf=True,\n",
    "                                                            strip_accents='unicode',\n",
    "                                                            analyzer='word', \n",
    "                                                            token_pattern=r'\\w{1,}', \n",
    "                                                            ngram_range=(1, 1), \n",
    "                                                            max_features=10000)), \n",
    "                         ('clf', SGDClassifier(loss='modified_huber', penalty='l2', alpha=1e-3))])\n",
    "\n",
    "\n",
    "classifier_3 = Pipeline([('selector', FeatureSelector(column='comment')),\n",
    "                         ('cleaner', Cleaner(column='comment')),\n",
    "                         ('lemma', Lemma(column='comment')),\n",
    "                         ('tfidf', TfidfVectorizer(sublinear_tf=True,\n",
    "                                                            strip_accents='unicode',\n",
    "                                                            analyzer='word', \n",
    "                                                            token_pattern=r'\\w{1,}', \n",
    "                                                            ngram_range=(1, 1), \n",
    "                                                            max_features=10000)), \n",
    "                         ('clf', LogisticRegression(penalty='l2',C=2))])\n",
    "\n",
    "classifier_4 = Pipeline([('selector', FeatureSelector(column='comment')),\n",
    "                         ('cleaner', Cleaner(column='comment')),\n",
    "                         ('lemma', Lemma(column='comment')),\n",
    "                         ('tfidf', TfidfVectorizer(sublinear_tf=True,\n",
    "                                                            strip_accents='unicode',\n",
    "                                                            analyzer='word', \n",
    "                                                            token_pattern=r'\\w{1,}', \n",
    "                                                            ngram_range=(1, 1), \n",
    "                                                            max_features=10000)), \n",
    "                         ('clf', RandomForestClassifier())])"
   ]
  },
  {
   "cell_type": "markdown",
   "metadata": {},
   "source": [
    "### Разбиение данных и кросс-валидация"
   ]
  },
  {
   "cell_type": "code",
   "execution_count": 12,
   "metadata": {},
   "outputs": [],
   "source": [
    "# Разбиение данных\n",
    "X_train, X_test, y_train, y_test = train_test_split(df.drop('toxic', 1), \n",
    "                                                    df['toxic'], random_state=42)\n",
    "\n",
    "#save test\n",
    "X_test.to_csv(\"X_test.csv\", index=None)\n",
    "y_test.to_csv(\"y_test.csv\", index=None)\n",
    "#save train\n",
    "X_train.to_csv(\"X_train.csv\", index=None)\n",
    "y_train.to_csv(\"y_train.csv\", index=None)"
   ]
  },
  {
   "cell_type": "markdown",
   "metadata": {},
   "source": [
    "Сделаем кросс-валидацию каждого классификатора на 6 фолдах, в кач-ве скоринга используем ROC_AUC"
   ]
  },
  {
   "cell_type": "code",
   "execution_count": 13,
   "metadata": {},
   "outputs": [
    {
     "name": "stderr",
     "output_type": "stream",
     "text": [
      "<ipython-input-8-7a93630c41af>:14: FutureWarning: Possible nested set at position 39\n",
      "  text = re.sub(\"[0-9]|[-—.,:;_%©«»?*!@#№$^•·&()]|[+=]|[[]|[]]|[/]|\", '', text)\n"
     ]
    },
    {
     "name": "stdout",
     "output_type": "stream",
     "text": [
      "MultinomialNB CV score is 0.9408880757749553\n",
      "SGDClassifier CV score is 0.9320180785648553\n",
      "LogisticRegression CV score is 0.930997997894199\n",
      "RandomForestClassifier CV score is 0.890529311583089\n",
      "Wall time: 6min 33s\n"
     ]
    }
   ],
   "source": [
    "%%time\n",
    "#запустим кросс-валидацию классификаторов\n",
    "cv_scores_1 = cross_val_score(classifier_1, X_train, y_train, cv=6, scoring='roc_auc') \n",
    "cv_score_1 = np.mean(cv_scores_1)\n",
    "print('MultinomialNB CV score is {}'.format(cv_score_1))\n",
    "\n",
    "cv_scores_2 = cross_val_score(classifier_2, X_train, y_train, cv=6, scoring='roc_auc') \n",
    "cv_score_2 = np.mean(cv_scores_2)\n",
    "print('SGDClassifier CV score is {}'.format(cv_score_2))\n",
    "\n",
    "cv_scores_3 = cross_val_score(classifier_3, X_train, y_train, cv=6, scoring='roc_auc') \n",
    "cv_score_3 = np.mean(cv_scores_3)\n",
    "print('LogisticRegression CV score is {}'.format(cv_score_3))\n",
    "\n",
    "cv_scores_4 = cross_val_score(classifier_4, X_train, y_train, cv=6, scoring='roc_auc') \n",
    "cv_score_4 = np.mean(cv_scores_4)\n",
    "print('RandomForestClassifier CV score is {}'.format(cv_score_4))"
   ]
  },
  {
   "cell_type": "markdown",
   "metadata": {},
   "source": [
    "Обучим классификаторы и для каждого получим скор"
   ]
  },
  {
   "cell_type": "code",
   "execution_count": 14,
   "metadata": {},
   "outputs": [
    {
     "name": "stdout",
     "output_type": "stream",
     "text": [
      "Wall time: 1min 22s\n"
     ]
    }
   ],
   "source": [
    "%%time\n",
    "\n",
    "classifier_1.fit(X_train, y_train)\n",
    "y_score_1 = classifier_1.predict_proba(X_test)[:, 1]\n",
    "\n",
    "classifier_2.fit(X_train, y_train)\n",
    "y_score_2 = classifier_2.predict_proba(X_test)[:, 1]\n",
    "\n",
    "classifier_3.fit(X_train, y_train)\n",
    "y_score_3 = classifier_3.predict_proba(X_test)[:, 1]\n",
    "\n",
    "classifier_4.fit(X_train, y_train)\n",
    "y_score_4 = classifier_4.predict_proba(X_test)[:, 1]"
   ]
  },
  {
   "cell_type": "code",
   "execution_count": 15,
   "metadata": {},
   "outputs": [],
   "source": [
    "from sklearn.metrics import precision_recall_curve\n",
    "\n",
    "precision_1, recall_1, threshold_1 = precision_recall_curve(y_test.values, y_score_1)\n",
    "precision_2, recall_2, threshold_2 = precision_recall_curve(y_test.values, y_score_2)\n",
    "precision_3, recall_3, threshold_3 = precision_recall_curve(y_test.values, y_score_3)\n",
    "precision_4, recall_4, threshold_4 = precision_recall_curve(y_test.values, y_score_4)\n",
    "\n",
    "\n",
    "#Найдем F-меру для каждого классификатора\n",
    "f_score_1 = (2*precision_1 * recall_1)/(precision_1 + recall_1)\n",
    "f_score_2 = (2*precision_2 * recall_2)/(precision_2 + recall_2)\n",
    "f_score_3 = (2*precision_3 * recall_3)/(precision_3 + recall_3)\n",
    "f_score_4 = (2*precision_4 * recall_4)/(precision_4 + recall_4)\n",
    "\n",
    "# найдем индекс максимального значения F-меры. При этом эти же индексы будут принадлежать оптимальным значениям \n",
    "# точности, полноты и порога\n",
    "ix1 = np.argmax(f_score_1)\n",
    "ix2 = np.argmax(f_score_2)\n",
    "ix3 = np.argmax(f_score_3)\n",
    "ix4 = np.argmax(f_score_4)\n",
    "\n",
    "roc_score_1 = roc_auc_score(y_test, y_score_1)\n",
    "roc_score_2 = roc_auc_score(y_test, y_score_2)\n",
    "roc_score_3 = roc_auc_score(y_test, y_score_3)\n",
    "roc_score_4 = roc_auc_score(y_test, y_score_4)"
   ]
  },
  {
   "cell_type": "code",
   "execution_count": 16,
   "metadata": {},
   "outputs": [
    {
     "name": "stdout",
     "output_type": "stream",
     "text": [
      "Best Threshold=0.337659, F-Score=0.832, Precision=0.841, Recall=0.823\n",
      "0.9433408435230438\n"
     ]
    }
   ],
   "source": [
    "from sklearn.metrics import precision_recall_curve, roc_curve, roc_auc_score, confusion_matrix\n",
    "\n",
    "precision, recall, thresholds = precision_recall_curve(y_test.values, y_score_1)\n",
    "fscore = (2 * precision_1 * recall_1) / (precision_1 + recall_1)\n",
    "ix = np.argmax(fscore)\n",
    "print('Best Threshold=%f, F-Score=%.3f, Precision=%.3f, Recall=%.3f' % (thresholds[ix1], \n",
    "                                                                        fscore[ix1],\n",
    "                                                                        precision[ix1],\n",
    "                                                                        recall[ix1]))\n",
    "print(roc_auc_score(y_test.values,y_score_1))"
   ]
  },
  {
   "cell_type": "code",
   "execution_count": 17,
   "metadata": {},
   "outputs": [
    {
     "data": {
      "text/html": [
       "<div>\n",
       "<style scoped>\n",
       "    .dataframe tbody tr th:only-of-type {\n",
       "        vertical-align: middle;\n",
       "    }\n",
       "\n",
       "    .dataframe tbody tr th {\n",
       "        vertical-align: top;\n",
       "    }\n",
       "\n",
       "    .dataframe thead th {\n",
       "        text-align: right;\n",
       "    }\n",
       "</style>\n",
       "<table border=\"1\" class=\"dataframe\">\n",
       "  <thead>\n",
       "    <tr style=\"text-align: right;\">\n",
       "      <th></th>\n",
       "      <th>F_score</th>\n",
       "      <th>ROC-AUC</th>\n",
       "      <th>Precision</th>\n",
       "      <th>Recall</th>\n",
       "      <th>Threshold</th>\n",
       "    </tr>\n",
       "  </thead>\n",
       "  <tbody>\n",
       "    <tr>\n",
       "      <th>MultinomialNB</th>\n",
       "      <td>0.832098</td>\n",
       "      <td>0.943341</td>\n",
       "      <td>0.841270</td>\n",
       "      <td>0.823123</td>\n",
       "      <td>0.337659</td>\n",
       "    </tr>\n",
       "    <tr>\n",
       "      <th>SGDClassifier</th>\n",
       "      <td>0.820059</td>\n",
       "      <td>0.931867</td>\n",
       "      <td>0.801483</td>\n",
       "      <td>0.839517</td>\n",
       "      <td>0.389983</td>\n",
       "    </tr>\n",
       "    <tr>\n",
       "      <th>LogReg</th>\n",
       "      <td>0.818220</td>\n",
       "      <td>0.931465</td>\n",
       "      <td>0.800330</td>\n",
       "      <td>0.836928</td>\n",
       "      <td>0.371456</td>\n",
       "    </tr>\n",
       "    <tr>\n",
       "      <th>RFC</th>\n",
       "      <td>0.750205</td>\n",
       "      <td>0.895134</td>\n",
       "      <td>0.716078</td>\n",
       "      <td>0.787748</td>\n",
       "      <td>0.380000</td>\n",
       "    </tr>\n",
       "  </tbody>\n",
       "</table>\n",
       "</div>"
      ],
      "text/plain": [
       "                F_score   ROC-AUC  Precision    Recall  Threshold\n",
       "MultinomialNB  0.832098  0.943341   0.841270  0.823123   0.337659\n",
       "SGDClassifier  0.820059  0.931867   0.801483  0.839517   0.389983\n",
       "LogReg         0.818220  0.931465   0.800330  0.836928   0.371456\n",
       "RFC            0.750205  0.895134   0.716078  0.787748   0.380000"
      ]
     },
     "execution_count": 17,
     "metadata": {},
     "output_type": "execute_result"
    }
   ],
   "source": [
    "pd.DataFrame(data = [[f_score_1[ix1],roc_score_1,precision_1[ix1],recall_1[ix1],threshold_1[ix1]],\n",
    "                    [f_score_2[ix2],roc_score_2, precision_2[ix2],recall_2[ix2],threshold_2[ix2]],\n",
    "                    [f_score_3[ix3],roc_score_3,precision_3[ix3],recall_3[ix3],threshold_3[ix3]],\n",
    "                    [f_score_4[ix4],roc_score_4,precision_4[ix4],recall_4[ix4],threshold_4[ix4]]], \n",
    "            index = ['MultinomialNB','SGDClassifier','LogReg','RFC'],\n",
    "            columns = ['F_score','ROC-AUC','Precision','Recall','Threshold'])"
   ]
  },
  {
   "cell_type": "markdown",
   "metadata": {},
   "source": [
    "**Остановимся на наивном Байесовском классификаторе. Модель проста и в нашем случае оказалась довольно полезна**\n",
    "\n",
    "Посмотрим на AUC_ROC"
   ]
  },
  {
   "cell_type": "code",
   "execution_count": 18,
   "metadata": {},
   "outputs": [
    {
     "data": {
      "image/png": "[encoded data removed]",
      "text/plain": [
       "<Figure size 720x576 with 1 Axes>"
      ]
     },
     "metadata": {},
     "output_type": "display_data"
    }
   ],
   "source": [
    "import seaborn as sns\n",
    "import itertools\n",
    "import matplotlib.pyplot as plt\n",
    "\n",
    "\n",
    "%matplotlib inline\n",
    "sns.set(font_scale=1.5)\n",
    "sns.set_color_codes(\"muted\")\n",
    "\n",
    "\n",
    "plt.figure(figsize=(10, 8))\n",
    "fpr, tpr, thresholds_ = roc_curve(y_test, y_score_1, pos_label=1)\n",
    "lw = 2\n",
    "plt.plot(fpr, tpr, lw=lw, label='ROC curve ')\n",
    "plt.plot([0, 1], [0, 1])\n",
    "plt.xlim([0.0, 1.0])\n",
    "plt.ylim([0.0, 1.05])\n",
    "plt.xlabel('False Positive Rate')\n",
    "plt.ylabel('True Positive Rate')\n",
    "plt.title('ROC curve')\n",
    "plt.savefig(\"ROC.png\")\n",
    "plt.show()"
   ]
  },
  {
   "cell_type": "code",
   "execution_count": 19,
   "metadata": {},
   "outputs": [],
   "source": [
    "def plot_confusion_matrix(cm, classes,\n",
    "                          normalize=False,\n",
    "                          title='Confusion matrix',\n",
    "                          cmap=plt.cm.Blues):\n",
    "    \"\"\"\n",
    "    This function prints and plots the confusion matrix.\n",
    "    Normalization can be applied by setting `normalize=True`.\n",
    "    \"\"\"\n",
    "    plt.imshow(cm, interpolation='nearest', cmap=cmap)\n",
    "    plt.title(title)\n",
    "    plt.colorbar()\n",
    "    tick_marks = np.arange(len(classes))\n",
    "    plt.xticks(tick_marks, classes, rotation=45)\n",
    "    plt.yticks(tick_marks, classes)\n",
    "\n",
    "    if normalize:\n",
    "        cm = cm.astype('float') / cm.sum(axis=1)[:, np.newaxis]\n",
    "        print(\"Normalized confusion matrix\")\n",
    "    else:\n",
    "        print('Confusion matrix, without normalization')\n",
    "\n",
    "    print(cm)\n",
    "\n",
    "    thresh = cm.max() / 2.\n",
    "    for i, j in itertools.product(range(cm.shape[0]), range(cm.shape[1])):\n",
    "        plt.text(j, i, cm[i, j],\n",
    "                 horizontalalignment=\"center\",\n",
    "                 color=\"white\" if cm[i, j] > thresh else \"black\")\n",
    "\n",
    "    plt.tight_layout()\n",
    "    plt.ylabel('True label')\n",
    "    plt.xlabel('Predicted label')"
   ]
  },
  {
   "cell_type": "code",
   "execution_count": 20,
   "metadata": {},
   "outputs": [
    {
     "name": "stdout",
     "output_type": "stream",
     "text": [
      "Normalized confusion matrix\n",
      "[[0.92635025 0.07364975]\n",
      " [0.17773943 0.82226057]]\n"
     ]
    },
    {
     "data": {
      "image/png": "[encoded data removed]",
      "text/plain": [
       "<Figure size 576x432 with 2 Axes>"
      ]
     },
     "metadata": {},
     "output_type": "display_data"
    }
   ],
   "source": [
    "font = {'size' : 15}\n",
    "\n",
    "plt.rc('font', **font)\n",
    "\n",
    "cnf_matrix = confusion_matrix(y_test, y_score_1>thresholds[ix1])\n",
    "plt.figure(figsize=(8, 6))\n",
    "plot_confusion_matrix(cnf_matrix, classes=['Nontoxic', 'toxic'], normalize=True,\n",
    "                      title='Confusion matrix')\n",
    "plt.show()"
   ]
  },
  {
   "cell_type": "code",
   "execution_count": 21,
   "metadata": {},
   "outputs": [],
   "source": [
    "TN = cnf_matrix[0][0]\n",
    "FN = cnf_matrix[1][0]\n",
    "TP = cnf_matrix[1][1]\n",
    "FP = cnf_matrix[0][1]"
   ]
  },
  {
   "cell_type": "code",
   "execution_count": 22,
   "metadata": {},
   "outputs": [
    {
     "data": {
      "text/plain": [
       "(0.822260569456428, 0.07364975450081833, 0.9263502454991817)"
      ]
     },
     "execution_count": 22,
     "metadata": {},
     "output_type": "execute_result"
    }
   ],
   "source": [
    "TPR = TP/(TP+FN)\n",
    "FPR = FP/(FP+TN)\n",
    "TNR = TN/(FP+TN)\n",
    "TPR, FPR, TNR"
   ]
  },
  {
   "cell_type": "markdown",
   "metadata": {},
   "source": [
    "- Мы может автоматически отсеивать ≈ 83% токсичных комментариев, что значительно облегчает жизнь тем же модераторам\n",
    "- Всего 7,5% не токсичных комментариев получают метку 'токсичный'"
   ]
  },
  {
   "cell_type": "markdown",
   "metadata": {},
   "source": [
    "**Как и говорил ранее, создадим полный пайплайн для лучшей модели и обучим ее на всех данных**"
   ]
  },
  {
   "cell_type": "code",
   "execution_count": 24,
   "metadata": {},
   "outputs": [],
   "source": [
    "classifier = Pipeline([('selector', FeatureSelector(column='comment')),\n",
    "                         ('cleaner', Cleaner(column='comment')),\n",
    "                         ('lemma', Lemma(column='comment')),\n",
    "                         ('tfidf', TfidfVectorizer(sublinear_tf=True,\n",
    "                                                            strip_accents='unicode',\n",
    "                                                            analyzer='word', # аналитика по словам\n",
    "                                                            token_pattern=r'\\w{1,}', # выдергиваем разделители\n",
    "                                                # длина ngram(ngram - смотрим на последовательности слов длиной 1 с шагом 1)\n",
    "                                                            ngram_range=(1, 1), \n",
    "                                                            max_features=10000)),\n",
    "                         ('clf', MultinomialNB())])"
   ]
  },
  {
   "cell_type": "code",
   "execution_count": 27,
   "metadata": {},
   "outputs": [
    {
     "data": {
      "text/html": [
       "<div>\n",
       "<style scoped>\n",
       "    .dataframe tbody tr th:only-of-type {\n",
       "        vertical-align: middle;\n",
       "    }\n",
       "\n",
       "    .dataframe tbody tr th {\n",
       "        vertical-align: top;\n",
       "    }\n",
       "\n",
       "    .dataframe thead th {\n",
       "        text-align: right;\n",
       "    }\n",
       "</style>\n",
       "<table border=\"1\" class=\"dataframe\">\n",
       "  <thead>\n",
       "    <tr style=\"text-align: right;\">\n",
       "      <th></th>\n",
       "      <th>comment</th>\n",
       "    </tr>\n",
       "  </thead>\n",
       "  <tbody>\n",
       "    <tr>\n",
       "      <th>5049</th>\n",
       "      <td>Козырёк на второй фотке дешёвым сайдингом обши...</td>\n",
       "    </tr>\n",
       "    <tr>\n",
       "      <th>4192</th>\n",
       "      <td>Переключение между полями ввода, кнопками и пр...</td>\n",
       "    </tr>\n",
       "    <tr>\n",
       "      <th>10605</th>\n",
       "      <td>1. Ни один метод не даёт гарантию 100 по этому...</td>\n",
       "    </tr>\n",
       "    <tr>\n",
       "      <th>9185</th>\n",
       "      <td>А я б хотел каждый день пить, но проклятый ток...</td>\n",
       "    </tr>\n",
       "    <tr>\n",
       "      <th>9970</th>\n",
       "      <td>это для ножного управления, подходят современн...</td>\n",
       "    </tr>\n",
       "    <tr>\n",
       "      <th>...</th>\n",
       "      <td>...</td>\n",
       "    </tr>\n",
       "    <tr>\n",
       "      <th>5191</th>\n",
       "      <td>Ну не знаю. А откуда тогда машин столько у люд...</td>\n",
       "    </tr>\n",
       "    <tr>\n",
       "      <th>13418</th>\n",
       "      <td>А у меня кандидатка завалилась на электрохроми...</td>\n",
       "    </tr>\n",
       "    <tr>\n",
       "      <th>5390</th>\n",
       "      <td>Второй сезон полная хуета!\\n</td>\n",
       "    </tr>\n",
       "    <tr>\n",
       "      <th>860</th>\n",
       "      <td>Мда... Хотел просто спасибо сказать, но и тут ...</td>\n",
       "    </tr>\n",
       "    <tr>\n",
       "      <th>7270</th>\n",
       "      <td>Не, год это прямо максимум максимум. В среднем...</td>\n",
       "    </tr>\n",
       "  </tbody>\n",
       "</table>\n",
       "<p>10809 rows × 1 columns</p>\n",
       "</div>"
      ],
      "text/plain": [
       "                                                 comment\n",
       "5049   Козырёк на второй фотке дешёвым сайдингом обши...\n",
       "4192   Переключение между полями ввода, кнопками и пр...\n",
       "10605  1. Ни один метод не даёт гарантию 100 по этому...\n",
       "9185   А я б хотел каждый день пить, но проклятый ток...\n",
       "9970   это для ножного управления, подходят современн...\n",
       "...                                                  ...\n",
       "5191   Ну не знаю. А откуда тогда машин столько у люд...\n",
       "13418  А у меня кандидатка завалилась на электрохроми...\n",
       "5390                        Второй сезон полная хуета!\\n\n",
       "860    Мда... Хотел просто спасибо сказать, но и тут ...\n",
       "7270   Не, год это прямо максимум максимум. В среднем...\n",
       "\n",
       "[10809 rows x 1 columns]"
      ]
     },
     "execution_count": 27,
     "metadata": {},
     "output_type": "execute_result"
    }
   ],
   "source": [
    "X_train"
   ]
  },
  {
   "cell_type": "code",
   "execution_count": 32,
   "metadata": {},
   "outputs": [
    {
     "name": "stdout",
     "output_type": "stream",
     "text": [
      "Wall time: 10.6 s\n"
     ]
    },
    {
     "name": "stderr",
     "output_type": "stream",
     "text": [
      "c:\\python3\\lib\\site-packages\\sklearn\\utils\\validation.py:72: DataConversionWarning: A column-vector y was passed when a 1d array was expected. Please change the shape of y to (n_samples, ), for example using ravel().\n",
      "  return f(**kwargs)\n"
     ]
    },
    {
     "data": {
      "text/plain": [
       "Pipeline(steps=[('selector', FeatureSelector(column='comment')),\n",
       "                ('cleaner', Cleaner(column='comment')),\n",
       "                ('lemma', Lemma(column='comment')),\n",
       "                ('tfidf',\n",
       "                 TfidfVectorizer(max_features=10000, strip_accents='unicode',\n",
       "                                 sublinear_tf=True, token_pattern='\\\\w{1,}')),\n",
       "                ('clf', MultinomialNB())])"
      ]
     },
     "execution_count": 32,
     "metadata": {},
     "output_type": "execute_result"
    }
   ],
   "source": [
    "%%time\n",
    "classifier.fit(df[['comment']],df[['toxic']])"
   ]
  },
  {
   "cell_type": "code",
   "execution_count": 33,
   "metadata": {},
   "outputs": [],
   "source": [
    "with open(\"NB_pipeline.dill\", \"wb\") as f:\n",
    "    dill.dump(classifier, f)"
   ]
  },
  {
   "cell_type": "code",
   "execution_count": null,
   "metadata": {},
   "outputs": [],
   "source": []
  }
 ],
 "metadata": {
  "kernelspec": {
   "display_name": "Python 3",
   "language": "python",
   "name": "python3"
  },
  "language_info": {
   "codemirror_mode": {
    "name": "ipython",
    "version": 3
   },
   "file_extension": ".py",
   "mimetype": "text/x-python",
   "name": "python",
   "nbconvert_exporter": "python",
   "pygments_lexer": "ipython3",
   "version": "3.8.4"
  }
 },
 "nbformat": 4,
 "nbformat_minor": 4
}
