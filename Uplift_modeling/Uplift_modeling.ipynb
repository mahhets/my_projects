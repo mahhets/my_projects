{
 "cells": [
  {
   "cell_type": "markdown",
   "metadata": {
    "id": "Ly7WzvSqvXLR"
   },
   "source": [
    "## UpLift моделирование"
   ]
  },
  {
   "cell_type": "markdown",
   "metadata": {
    "id": "jrmv-tVhekli"
   },
   "source": [
    "Данные в этом и последующих методах решения задачи uplift взяты с соревнования Retail Hero от X5 Retail http://retailhero.ai/#rec141268104\n",
    "\n",
    "В соревновании предлагалось отранжировать клиентов X5 по убыванию эффективности коммуникации."
   ]
  },
  {
   "cell_type": "markdown",
   "metadata": {},
   "source": [
    "**Решение состоит из 5 этапов:**\n",
    "- 1. Анализ и обработка признаков\n",
    "- 2. Модель S-learner\n",
    "- 3. Модель T-learner\n",
    "- 4. Реализация подхода с трансформацией класса\n",
    "- 5. Кратки анализ результатов по метрике uplift@30%"
   ]
  },
  {
   "cell_type": "markdown",
   "metadata": {},
   "source": [
    "## 1. Анализ и обработка признаков"
   ]
  },
  {
   "cell_type": "code",
   "execution_count": 1,
   "metadata": {
    "colab": {
     "base_uri": "https://localhost:8080/"
    },
    "id": "Uh04OwWEhAlG",
    "outputId": "51b97631-f3ec-4d0b-80bc-17eab83be77e"
   },
   "outputs": [
    {
     "name": "stdout",
     "output_type": "stream",
     "text": [
      "Drive already mounted at /gdrive; to attempt to forcibly remount, call drive.mount(\"/gdrive\", force_remount=True).\n"
     ]
    }
   ],
   "source": [
    "from google.colab import drive\n",
    "drive.mount('/gdrive')"
   ]
  },
  {
   "cell_type": "code",
   "execution_count": 2,
   "metadata": {
    "id": "17tG2Vi2hJ2d"
   },
   "outputs": [],
   "source": [
    "# Установка необходимых пакетов\n",
    "#!pip install catboost\n",
    "#!pip install scikit-uplift\n",
    "#!pip install causalml"
   ]
  },
  {
   "cell_type": "code",
   "execution_count": 3,
   "metadata": {
    "id": "o_lcn_vae50v"
   },
   "outputs": [],
   "source": [
    "import pandas as pd\n",
    "pd.set_option('display.max_columns', None)\n",
    "import numpy as np\n",
    "from sklearn.model_selection import train_test_split\n",
    "from sklearn.utils.validation import check_consistent_length\n",
    "import matplotlib.pyplot as plt"
   ]
  },
  {
   "cell_type": "markdown",
   "metadata": {
    "id": "tM7K_fMEh-Ta"
   },
   "source": [
    "Загрузим данные"
   ]
  },
  {
   "cell_type": "code",
   "execution_count": 4,
   "metadata": {
    "colab": {
     "base_uri": "https://localhost:8080/",
     "height": 173
    },
    "id": "e65v7aDIe53N",
    "outputId": "168b881c-f54e-408e-acf3-a879ce88d2a3"
   },
   "outputs": [
    {
     "data": {
      "text/html": [
       "<div>\n",
       "<style scoped>\n",
       "    .dataframe tbody tr th:only-of-type {\n",
       "        vertical-align: middle;\n",
       "    }\n",
       "\n",
       "    .dataframe tbody tr th {\n",
       "        vertical-align: top;\n",
       "    }\n",
       "\n",
       "    .dataframe thead th {\n",
       "        text-align: right;\n",
       "    }\n",
       "</style>\n",
       "<table border=\"1\" class=\"dataframe\">\n",
       "  <thead>\n",
       "    <tr style=\"text-align: right;\">\n",
       "      <th></th>\n",
       "      <th>first_issue_date</th>\n",
       "      <th>first_redeem_date</th>\n",
       "      <th>age</th>\n",
       "      <th>gender</th>\n",
       "    </tr>\n",
       "    <tr>\n",
       "      <th>client_id</th>\n",
       "      <th></th>\n",
       "      <th></th>\n",
       "      <th></th>\n",
       "      <th></th>\n",
       "    </tr>\n",
       "  </thead>\n",
       "  <tbody>\n",
       "    <tr>\n",
       "      <th>000012768d</th>\n",
       "      <td>2017-08-05 15:40:48</td>\n",
       "      <td>2018-01-04 19:30:07</td>\n",
       "      <td>45</td>\n",
       "      <td>U</td>\n",
       "    </tr>\n",
       "    <tr>\n",
       "      <th>000036f903</th>\n",
       "      <td>2017-04-10 13:54:23</td>\n",
       "      <td>2017-04-23 12:37:56</td>\n",
       "      <td>72</td>\n",
       "      <td>F</td>\n",
       "    </tr>\n",
       "    <tr>\n",
       "      <th>000048b7a6</th>\n",
       "      <td>2018-12-15 13:33:11</td>\n",
       "      <td>NaN</td>\n",
       "      <td>68</td>\n",
       "      <td>F</td>\n",
       "    </tr>\n",
       "  </tbody>\n",
       "</table>\n",
       "</div>"
      ],
      "text/plain": [
       "               first_issue_date    first_redeem_date  age gender\n",
       "client_id                                                       \n",
       "000012768d  2017-08-05 15:40:48  2018-01-04 19:30:07   45      U\n",
       "000036f903  2017-04-10 13:54:23  2017-04-23 12:37:56   72      F\n",
       "000048b7a6  2018-12-15 13:33:11                  NaN   68      F"
      ]
     },
     "execution_count": 4,
     "metadata": {
      "tags": []
     },
     "output_type": "execute_result"
    }
   ],
   "source": [
    "df_clietns = pd.read_csv('/gdrive/MyDrive/clients.csv', index_col='client_id')\n",
    "df_train = pd.read_csv('/gdrive/MyDrive/uplift_train.csv', index_col='client_id')\n",
    "df_test = pd.read_csv('/gdrive/MyDrive/uplift_test.csv', index_col='client_id')\n",
    "df_clietns.head(3)"
   ]
  },
  {
   "cell_type": "markdown",
   "metadata": {
    "id": "XSHsFUzDe55k"
   },
   "source": [
    "Перейдем к более удобному представлению данных"
   ]
  },
  {
   "cell_type": "code",
   "execution_count": 5,
   "metadata": {
    "id": "FXfXN0d_e578"
   },
   "outputs": [],
   "source": [
    "df_features = df_clietns.copy()\n",
    "# превратим время с момента регистрации в кол-во секунд начиная с 1970 г.\n",
    "df_features['first_issue_time'] = (pd.to_datetime(df_features['first_issue_date']) - pd.Timestamp('1970-01-01'))\\\n",
    "    // pd.Timedelta('1s')\n",
    "\n",
    "# превратим время с момента первого действия в кол-во секунд начиная с 1970 г.\n",
    "df_features['first_redeem_time'] = \\\n",
    "    (pd.to_datetime(df_features['first_redeem_date'])\n",
    "     - pd.Timestamp('1970-01-01')) // pd.Timedelta('1s')\n",
    "\n",
    "# создадим производный признак, который определяет разницу между временем первого совершенного действия и момента регистрации\n",
    "df_features['issue_redeem_delay'] = df_features['first_redeem_time'] - df_features['first_issue_time']\n",
    "\n",
    "# перейдем к более удобным признакам, удалив ненужные\n",
    "df_features = df_features.drop(columns=['first_issue_date','first_redeem_date'], axis=1)"
   ]
  },
  {
   "cell_type": "code",
   "execution_count": 6,
   "metadata": {
    "id": "2NEzTE6ce5-W"
   },
   "outputs": [],
   "source": [
    "# возьмем индексы клиентов тренировочного и тестового наборов\n",
    "indices_train = df_train.index\n",
    "indices_test = df_test.index\n",
    "# разобьем индексы тренировочного сета на учебный и валидный\n",
    "indices_learn, indices_valid = train_test_split(df_train.index, test_size = 0.3, random_state = 42)"
   ]
  },
  {
   "cell_type": "code",
   "execution_count": 7,
   "metadata": {
    "colab": {
     "base_uri": "https://localhost:8080/",
     "height": 173
    },
    "id": "fWrIAejMe6A9",
    "outputId": "4085d735-bbaf-48ed-c4a7-7b61d649fa2a"
   },
   "outputs": [
    {
     "data": {
      "text/html": [
       "<div>\n",
       "<style scoped>\n",
       "    .dataframe tbody tr th:only-of-type {\n",
       "        vertical-align: middle;\n",
       "    }\n",
       "\n",
       "    .dataframe tbody tr th {\n",
       "        vertical-align: top;\n",
       "    }\n",
       "\n",
       "    .dataframe thead th {\n",
       "        text-align: right;\n",
       "    }\n",
       "</style>\n",
       "<table border=\"1\" class=\"dataframe\">\n",
       "  <thead>\n",
       "    <tr style=\"text-align: right;\">\n",
       "      <th></th>\n",
       "      <th>age</th>\n",
       "      <th>gender</th>\n",
       "      <th>first_issue_time</th>\n",
       "      <th>first_redeem_time</th>\n",
       "      <th>issue_redeem_delay</th>\n",
       "    </tr>\n",
       "    <tr>\n",
       "      <th>client_id</th>\n",
       "      <th></th>\n",
       "      <th></th>\n",
       "      <th></th>\n",
       "      <th></th>\n",
       "      <th></th>\n",
       "    </tr>\n",
       "  </thead>\n",
       "  <tbody>\n",
       "    <tr>\n",
       "      <th>000012768d</th>\n",
       "      <td>45</td>\n",
       "      <td>U</td>\n",
       "      <td>1501947648</td>\n",
       "      <td>1.515094e+09</td>\n",
       "      <td>13146559.0</td>\n",
       "    </tr>\n",
       "    <tr>\n",
       "      <th>000036f903</th>\n",
       "      <td>72</td>\n",
       "      <td>F</td>\n",
       "      <td>1491832463</td>\n",
       "      <td>1.492951e+09</td>\n",
       "      <td>1118613.0</td>\n",
       "    </tr>\n",
       "    <tr>\n",
       "      <th>000048b7a6</th>\n",
       "      <td>68</td>\n",
       "      <td>F</td>\n",
       "      <td>1544880791</td>\n",
       "      <td>NaN</td>\n",
       "      <td>NaN</td>\n",
       "    </tr>\n",
       "  </tbody>\n",
       "</table>\n",
       "</div>"
      ],
      "text/plain": [
       "            age gender  first_issue_time  first_redeem_time  \\\n",
       "client_id                                                     \n",
       "000012768d   45      U        1501947648       1.515094e+09   \n",
       "000036f903   72      F        1491832463       1.492951e+09   \n",
       "000048b7a6   68      F        1544880791                NaN   \n",
       "\n",
       "            issue_redeem_delay  \n",
       "client_id                       \n",
       "000012768d          13146559.0  \n",
       "000036f903           1118613.0  \n",
       "000048b7a6                 NaN  "
      ]
     },
     "execution_count": 7,
     "metadata": {
      "tags": []
     },
     "output_type": "execute_result"
    }
   ],
   "source": [
    "# новое представление\n",
    "df_features.head(3)"
   ]
  },
  {
   "cell_type": "code",
   "execution_count": 8,
   "metadata": {
    "colab": {
     "base_uri": "https://localhost:8080/",
     "height": 235
    },
    "id": "Mn9q58wce6DQ",
    "outputId": "8f87175f-527f-422e-c27d-da6a081ea8ce"
   },
   "outputs": [
    {
     "data": {
      "text/html": [
       "<div>\n",
       "<style scoped>\n",
       "    .dataframe tbody tr th:only-of-type {\n",
       "        vertical-align: middle;\n",
       "    }\n",
       "\n",
       "    .dataframe tbody tr th {\n",
       "        vertical-align: top;\n",
       "    }\n",
       "\n",
       "    .dataframe thead th {\n",
       "        text-align: right;\n",
       "    }\n",
       "</style>\n",
       "<table border=\"1\" class=\"dataframe\">\n",
       "  <thead>\n",
       "    <tr style=\"text-align: right;\">\n",
       "      <th></th>\n",
       "      <th>treatment_flg</th>\n",
       "      <th>target</th>\n",
       "    </tr>\n",
       "    <tr>\n",
       "      <th>client_id</th>\n",
       "      <th></th>\n",
       "      <th></th>\n",
       "    </tr>\n",
       "  </thead>\n",
       "  <tbody>\n",
       "    <tr>\n",
       "      <th>000012768d</th>\n",
       "      <td>0</td>\n",
       "      <td>1</td>\n",
       "    </tr>\n",
       "    <tr>\n",
       "      <th>000036f903</th>\n",
       "      <td>1</td>\n",
       "      <td>1</td>\n",
       "    </tr>\n",
       "    <tr>\n",
       "      <th>00010925a5</th>\n",
       "      <td>1</td>\n",
       "      <td>1</td>\n",
       "    </tr>\n",
       "    <tr>\n",
       "      <th>0001f552b0</th>\n",
       "      <td>1</td>\n",
       "      <td>1</td>\n",
       "    </tr>\n",
       "    <tr>\n",
       "      <th>00020e7b18</th>\n",
       "      <td>1</td>\n",
       "      <td>1</td>\n",
       "    </tr>\n",
       "  </tbody>\n",
       "</table>\n",
       "</div>"
      ],
      "text/plain": [
       "            treatment_flg  target\n",
       "client_id                        \n",
       "000012768d              0       1\n",
       "000036f903              1       1\n",
       "00010925a5              1       1\n",
       "0001f552b0              1       1\n",
       "00020e7b18              1       1"
      ]
     },
     "execution_count": 8,
     "metadata": {
      "tags": []
     },
     "output_type": "execute_result"
    }
   ],
   "source": [
    "# индексы клиентов, флаг наличия воздействия, эффект оттока\n",
    "df_train.head()"
   ]
  },
  {
   "cell_type": "code",
   "execution_count": 9,
   "metadata": {
    "colab": {
     "base_uri": "https://localhost:8080/",
     "height": 156
    },
    "id": "q_TUDILWj4mu",
    "outputId": "45ec6243-472b-4481-d72d-2ec307b95ab5"
   },
   "outputs": [
    {
     "data": {
      "text/html": [
       "<div>\n",
       "<style scoped>\n",
       "    .dataframe tbody tr th:only-of-type {\n",
       "        vertical-align: middle;\n",
       "    }\n",
       "\n",
       "    .dataframe tbody tr th {\n",
       "        vertical-align: top;\n",
       "    }\n",
       "\n",
       "    .dataframe thead th {\n",
       "        text-align: right;\n",
       "    }\n",
       "</style>\n",
       "<table border=\"1\" class=\"dataframe\">\n",
       "  <thead>\n",
       "    <tr style=\"text-align: right;\">\n",
       "      <th></th>\n",
       "    </tr>\n",
       "    <tr>\n",
       "      <th>client_id</th>\n",
       "    </tr>\n",
       "  </thead>\n",
       "  <tbody>\n",
       "    <tr>\n",
       "      <th>000048b7a6</th>\n",
       "    </tr>\n",
       "    <tr>\n",
       "      <th>000073194a</th>\n",
       "    </tr>\n",
       "    <tr>\n",
       "      <th>00007c7133</th>\n",
       "    </tr>\n",
       "  </tbody>\n",
       "</table>\n",
       "</div>"
      ],
      "text/plain": [
       "Empty DataFrame\n",
       "Columns: []\n",
       "Index: [000048b7a6, 000073194a, 00007c7133]"
      ]
     },
     "execution_count": 9,
     "metadata": {
      "tags": []
     },
     "output_type": "execute_result"
    }
   ],
   "source": [
    "# индексы клиентов теста\n",
    "df_test.head(3)"
   ]
  },
  {
   "cell_type": "code",
   "execution_count": 10,
   "metadata": {
    "colab": {
     "base_uri": "https://localhost:8080/",
     "height": 142
    },
    "id": "NagJsQpqe6Fm",
    "outputId": "af3d0c3c-60d2-48c4-b473-4e0347933620"
   },
   "outputs": [
    {
     "data": {
      "text/html": [
       "<div>\n",
       "<style scoped>\n",
       "    .dataframe tbody tr th:only-of-type {\n",
       "        vertical-align: middle;\n",
       "    }\n",
       "\n",
       "    .dataframe tbody tr th {\n",
       "        vertical-align: top;\n",
       "    }\n",
       "\n",
       "    .dataframe thead th {\n",
       "        text-align: right;\n",
       "    }\n",
       "</style>\n",
       "<table border=\"1\" class=\"dataframe\">\n",
       "  <thead>\n",
       "    <tr style=\"text-align: right;\">\n",
       "      <th></th>\n",
       "      <th>count</th>\n",
       "      <th>mean</th>\n",
       "      <th>std</th>\n",
       "      <th>min</th>\n",
       "      <th>25%</th>\n",
       "      <th>50%</th>\n",
       "      <th>75%</th>\n",
       "      <th>max</th>\n",
       "    </tr>\n",
       "    <tr>\n",
       "      <th>treatment_flg</th>\n",
       "      <th></th>\n",
       "      <th></th>\n",
       "      <th></th>\n",
       "      <th></th>\n",
       "      <th></th>\n",
       "      <th></th>\n",
       "      <th></th>\n",
       "      <th></th>\n",
       "    </tr>\n",
       "  </thead>\n",
       "  <tbody>\n",
       "    <tr>\n",
       "      <th>0</th>\n",
       "      <td>100058.0</td>\n",
       "      <td>0.603280</td>\n",
       "      <td>0.489219</td>\n",
       "      <td>0.0</td>\n",
       "      <td>0.0</td>\n",
       "      <td>1.0</td>\n",
       "      <td>1.0</td>\n",
       "      <td>1.0</td>\n",
       "    </tr>\n",
       "    <tr>\n",
       "      <th>1</th>\n",
       "      <td>99981.0</td>\n",
       "      <td>0.636511</td>\n",
       "      <td>0.481006</td>\n",
       "      <td>0.0</td>\n",
       "      <td>0.0</td>\n",
       "      <td>1.0</td>\n",
       "      <td>1.0</td>\n",
       "      <td>1.0</td>\n",
       "    </tr>\n",
       "  </tbody>\n",
       "</table>\n",
       "</div>"
      ],
      "text/plain": [
       "                  count      mean       std  min  25%  50%  75%  max\n",
       "treatment_flg                                                       \n",
       "0              100058.0  0.603280  0.489219  0.0  0.0  1.0  1.0  1.0\n",
       "1               99981.0  0.636511  0.481006  0.0  0.0  1.0  1.0  1.0"
      ]
     },
     "execution_count": 10,
     "metadata": {
      "tags": []
     },
     "output_type": "execute_result"
    }
   ],
   "source": [
    "# посмотрим на сколько наша задача неуравновешена\n",
    "df_train.groupby('treatment_flg')['target'].describe()\n",
    "# Практически идеальный баланс, 100000 на кого воздействовали и около 100000 на кого нет"
   ]
  },
  {
   "cell_type": "markdown",
   "metadata": {
    "id": "lHwU1UyGekoD"
   },
   "source": [
    "Разделим на трейн, валид и тест в зависимости от наших индексов"
   ]
  },
  {
   "cell_type": "code",
   "execution_count": 11,
   "metadata": {
    "id": "bBSis4tDekqa"
   },
   "outputs": [],
   "source": [
    "# берем из нашего нового пространства признаков вектора, индексы которых мы разметили под обучение\n",
    "X_train = df_features.loc[indices_learn, :]\n",
    "# те же индексы берем из датафрейма с известными флагами воздействия и целевой переменной, тоесть берем целевую переменную\n",
    "y_train = df_train.loc[indices_learn, 'target']\n",
    "# из того же датасета берем признак воздействия, был или нет\n",
    "treat_train = df_train.loc[indices_learn, 'treatment_flg']"
   ]
  },
  {
   "cell_type": "markdown",
   "metadata": {
    "id": "XUoR6e-ekLe7"
   },
   "source": [
    "Тоже самое проделаем для валидационных данных"
   ]
  },
  {
   "cell_type": "code",
   "execution_count": 12,
   "metadata": {
    "id": "i_f9XgP_kLhf"
   },
   "outputs": [],
   "source": [
    "X_val = df_features.loc[indices_valid, :]\n",
    "y_val = df_train.loc[indices_valid, 'target']\n",
    "treat_val =  df_train.loc[indices_valid, 'treatment_flg']"
   ]
  },
  {
   "cell_type": "markdown",
   "metadata": {
    "id": "lPh3WQb_kLj3"
   },
   "source": [
    "Построим трейны для полной модели, включающие все индексы тренировочного набора"
   ]
  },
  {
   "cell_type": "code",
   "execution_count": 13,
   "metadata": {
    "id": "nifuPDjnkYg0"
   },
   "outputs": [],
   "source": [
    "X_train_full = df_features.loc[indices_train, :]\n",
    "y_train_full = df_train.loc[:, 'target']\n",
    "treat_train_full = df_train.loc[:, 'treatment_flg']"
   ]
  },
  {
   "cell_type": "markdown",
   "metadata": {
    "id": "0VIHLYXgkYjU"
   },
   "source": [
    "Строим X_test"
   ]
  },
  {
   "cell_type": "code",
   "execution_count": 14,
   "metadata": {
    "id": "AMGgQaW_kYlv"
   },
   "outputs": [],
   "source": [
    "X_test = df_features.loc[indices_test, :]"
   ]
  },
  {
   "cell_type": "markdown",
   "metadata": {
    "id": "20qUi7KfkYov"
   },
   "source": [
    "Разделим признаки:\n",
    "- У нас один категорийный - gender"
   ]
  },
  {
   "cell_type": "code",
   "execution_count": 15,
   "metadata": {
    "id": "lNVOLobckYqu"
   },
   "outputs": [],
   "source": [
    "cat_features = ['gender']"
   ]
  },
  {
   "cell_type": "markdown",
   "metadata": {
    "id": "dlTTHnYekYtB"
   },
   "source": [
    "Создадим словарь для результатов при uplift 30%"
   ]
  },
  {
   "cell_type": "code",
   "execution_count": 16,
   "metadata": {
    "id": "qoDgyOMQkY9a"
   },
   "outputs": [],
   "source": [
    "models_results = {'Модель' : [], \n",
    "                  'uplift@30%': []}"
   ]
  },
  {
   "cell_type": "markdown",
   "metadata": {
    "id": "fHD_TF4jkY_y"
   },
   "source": [
    "Функция для визуализации результатов"
   ]
  },
  {
   "cell_type": "code",
   "execution_count": 17,
   "metadata": {
    "id": "np88YI-IkZCL"
   },
   "outputs": [],
   "source": [
    "def plot_uplift_preds_(trmnt_preds, ctrl_preds, log=False, bins=100):\n",
    "    \"\"\"Plot histograms of treatment, control and uplift predictions.\n",
    "\n",
    "    Args:\n",
    "        trmnt_preds (1d array-like): Предсказания при наличии факта воздействия\n",
    "        ctrl_preds (1d array-like): Предсказания при отсутствии факта воздействия\n",
    "        log (bool): Логарифмическое скалирование (True or False)\n",
    "        bins (integer): Кол-во бинов при отображении\n",
    "    \"\"\"\n",
    "\n",
    "    check_consistent_length(trmnt_preds, ctrl_preds)\n",
    "  \n",
    "    if not isinstance(bins, int) or bins <= 0:\n",
    "        raise ValueError(\n",
    "            f'Bins should be positive integer. Invalid value for bins: {bins}')\n",
    "\n",
    "    if log:\n",
    "        trmnt_preds = np.log(trmnt_preds + 1)\n",
    "        ctrl_preds = np.log(ctrl_preds + 1)\n",
    "\n",
    "    fig, axes = plt.subplots(ncols=3, nrows=1, figsize=(20, 7))\n",
    "    axes[0].hist(\n",
    "        trmnt_preds, bins=bins, alpha=0.3, color='b', label='Treated', histtype='stepfilled')\n",
    "    axes[0].set_ylabel('Probability hist')\n",
    "    axes[0].legend()\n",
    "    axes[0].set_title('Treatment predictions')\n",
    "\n",
    "    axes[1].hist(\n",
    "        ctrl_preds, bins=bins, alpha=0.5, color='y', label='Not treated', histtype='stepfilled')\n",
    "    axes[1].legend()\n",
    "    axes[1].set_title('Control predictions')\n",
    "\n",
    "    axes[2].hist(\n",
    "        trmnt_preds - ctrl_preds, bins=bins, alpha=0.5, color='green', label='Uplift', histtype='stepfilled')\n",
    "    axes[2].legend()\n",
    "    axes[2].set_title('Uplift predictions')\n",
    "\n",
    "    return axes"
   ]
  },
  {
   "cell_type": "markdown",
   "metadata": {
    "id": "_J0gdoK9kZF_"
   },
   "source": [
    "## 2.Построим SoloModel"
   ]
  },
  {
   "cell_type": "markdown",
   "metadata": {
    "id": "RP5ELAl-IEi6"
   },
   "source": [
    "**Работа S-leaner очень проста для понимания:**\n",
    "- 1. Берем заранее накопленных в бд клиентов, исход воздействия на которых известен\n",
    "- 2. Строим две одинаковых, за исключением фактора воздействия(1/0), матрицы признаков для каждого клиента\n",
    "- 3. Разницы между двуми условными вероятностями (P(Y = 1|W = 1) - P(Y = 1|W = 0)) и будет нашим uplift значением для каждого клиента\n",
    "\n",
    "**Важно, что с точки зрения математики, смысла и решения наши модели идентичны**"
   ]
  },
  {
   "cell_type": "code",
   "execution_count": 18,
   "metadata": {
    "id": "Vng0zDZlkZHG"
   },
   "outputs": [],
   "source": [
    "from sklift.metrics import uplift_at_k\n",
    "from sklift.models import SoloModel # класс для построения uplift с одной моделью\n",
    "from catboost import CatBoostClassifier # Как классификатор возьмем CatBoost"
   ]
  },
  {
   "cell_type": "code",
   "execution_count": 19,
   "metadata": {
    "id": "LlRe5K_WkLmS"
   },
   "outputs": [],
   "source": [
    "N =10000\n",
    "sm = SoloModel(CatBoostClassifier(iterations=20, thread_count=2, random_state=42, silent=True))\n",
    "\n",
    "# X - описание векторов, У - отвечают за результат при факте воздействия, treat_train - само наличие воздействия\n",
    "sm = sm.fit(X_train.iloc[:N,:], y_train.iloc[:N], treat_train.iloc[:N], estimator_fit_params={'cat_features': cat_features})\n",
    "\n",
    "# Сделаем предикты для валидационного набора, которые впоследствии отсортируем от более желательных с точки зрения воздействия к менее желательным\n",
    "uplift_sm = sm.predict(X_val)\n",
    "\n",
    "# метрика для uplitf\n",
    "# передаем валидационные y, предсказанный uplift для тех-же самых объектов, информацию о воздейтсвии на те-же объекты\n",
    "# k - оценка в процентах, сколько брать по uplift(очень грубо можно интерпретировать как какое-то кол-во денег,которые мы готовы потратить на вмешательства)\n",
    "sm_score = uplift_at_k(y_true=y_val[:N], uplift=uplift_sm[:N], treatment=treat_val[:N], strategy='by_group', k=0.3)\n",
    "\n",
    "# Добавим модель в наш словарь\n",
    "models_results['Модель'].append('SoloModel')\n",
    "models_results['uplift@30%'].append(sm_score)"
   ]
  },
  {
   "cell_type": "code",
   "execution_count": 20,
   "metadata": {
    "colab": {
     "base_uri": "https://localhost:8080/"
    },
    "id": "DKttY30WkLol",
    "outputId": "a8fdd6fd-7dfe-4c00-d142-0fb3664da747"
   },
   "outputs": [
    {
     "data": {
      "text/plain": [
       "{'uplift@30%': [0.07230889249446715], 'Модель': ['SoloModel']}"
      ]
     },
     "execution_count": 20,
     "metadata": {
      "tags": []
     },
     "output_type": "execute_result"
    }
   ],
   "source": [
    "models_results"
   ]
  },
  {
   "cell_type": "markdown",
   "metadata": {
    "id": "OOARu4t5kLq4"
   },
   "source": [
    "Мы получили uplift примерно в 7%\n",
    "\n",
    "Можно сказать, что без воздействия на клиентов, то мы получили бы отток примерно на 7% от прогноза оттока"
   ]
  },
  {
   "cell_type": "markdown",
   "metadata": {
    "id": "GgYMffnQkLtz"
   },
   "source": [
    "Отрисуем конретное решение, для этого необходимо получить условные вероятности для каждого объекта с взаимодействием и без него"
   ]
  },
  {
   "cell_type": "code",
   "execution_count": 21,
   "metadata": {
    "colab": {
     "base_uri": "https://localhost:8080/",
     "height": 512
    },
    "id": "0NeNdcI0kLvp",
    "outputId": "757a948b-41f0-47cd-9597-3fbc64962891"
   },
   "outputs": [
    {
     "data": {
      "text/plain": [
       "array([<matplotlib.axes._subplots.AxesSubplot object at 0x7f07cf373a10>,\n",
       "       <matplotlib.axes._subplots.AxesSubplot object at 0x7f07ceb41150>,\n",
       "       <matplotlib.axes._subplots.AxesSubplot object at 0x7f07ceafb750>],\n",
       "      dtype=object)"
      ]
     },
     "execution_count": 21,
     "metadata": {
      "tags": []
     },
     "output_type": "execute_result"
    },
    {
     "data": {
      "image/png": "[encoded data removed]",
      "text/plain": [
       "<Figure size 1440x504 with 3 Axes>"
      ]
     },
     "metadata": {
      "needs_background": "light",
      "tags": []
     },
     "output_type": "display_data"
    }
   ],
   "source": [
    "# Получим условные вероятности выполнения целевого действия при взаимодействии для каждого объекта\n",
    "sm_trmnt_preds = sm.trmnt_preds_\n",
    "# И условные вероятности выполнения целевого действия без взаимодействия для каждого объекта\n",
    "sm_ctrl_preds = sm.ctrl_preds_\n",
    "\n",
    "# Отобразим распределения вероятностей и их разность (uplift)\n",
    "plot_uplift_preds_(sm_trmnt_preds , sm_ctrl_preds, bins=10)"
   ]
  },
  {
   "cell_type": "markdown",
   "metadata": {
    "id": "8QnOu0I1eksw"
   },
   "source": [
    "1. Первый график - это график с воздействием. Тут мы оцениваем вероятность того, что наш клиент совершит нужное действие при воздействии на него с помощью \"звонка\"\n",
    "2. Второй график - это график без воздействия. Вероятность того, что клиент совершит необходимое дейтвие без \"звонка\"\n",
    "3. Третий грфик - это их разница. Интрепретировать можно как стоит звонить/не стоит звонить. Но тут нужно понимать, что чем дальше в сторону +1, тем больше вероятность удачного взаимодействия. Клиенты левее нуля - это так называемые \"спящие клиенты\", которым звонить нельзя ни при каких условиях"
   ]
  },
  {
   "cell_type": "markdown",
   "metadata": {
    "id": "bS1KGa4veku_"
   },
   "source": [
    "### Что было сделано:\n",
    "Мы построили одну общую модель(S-learner) на два варианта решения(с воздействием / без воздействия). При этом в трейне мы использовали клиентов, которые подвергались или не подвергались воздействию. При обучении SoloModel мы сначала обучили всю выборку на treatment = 1, затем на treatment=0, после чего нашли разницу вероятностей(3 график)"
   ]
  },
  {
   "cell_type": "markdown",
   "metadata": {
    "id": "6D59Ui3juuNR"
   },
   "source": [
    "## 3.Построим TwoModels"
   ]
  },
  {
   "cell_type": "markdown",
   "metadata": {
    "id": "IVcpGT7cIHfV"
   },
   "source": [
    "**T-leaner - это две независимые модели, которые обучаются по отдельности**\n",
    "\n",
    "Обучив модели по принципу:\n",
    "- modelT = P(Y = 1|W = 1)\n",
    "- modelC = P(Y = 1|W = 0)\n",
    "\n",
    "Берем разницу prob положительных исходов моделей соответственно понятию положительного исхода для каждой модели, это и будет наш uplift\n",
    "\n",
    "**Недостаток** заключается в том, что фактически мы построили разные модели. Поэтому желательно, чтобы модели были одного класса и совпадали по гиперпараметрам + необходимо проводить калибровку моделей."
   ]
  },
  {
   "cell_type": "code",
   "execution_count": 22,
   "metadata": {
    "id": "l_p82GKLytjw"
   },
   "outputs": [],
   "source": [
    "from sklift.models import TwoModels"
   ]
  },
  {
   "cell_type": "markdown",
   "metadata": {
    "id": "lDMLur-6ytmR"
   },
   "source": [
    "В модель передадим одинаковые модели с одинаковыми гиперпараметрами. Это не значит, что построенные модели будут полностью идентичны. На выходи мы получим два независимых, некалиброванных ответа от похожих задач."
   ]
  },
  {
   "cell_type": "code",
   "execution_count": 23,
   "metadata": {
    "id": "yDInEnZmytoq"
   },
   "outputs": [],
   "source": [
    "tm = TwoModels(\n",
    "    estimator_trmnt=CatBoostClassifier(iterations=10, thread_count=2, random_state=42, silent=True), \n",
    "    estimator_ctrl=CatBoostClassifier(iterations=10, thread_count=2, random_state=42, silent=True), \n",
    "    method='vanilla'\n",
    ")"
   ]
  },
  {
   "cell_type": "code",
   "execution_count": 24,
   "metadata": {
    "id": "d8vu9wjJytsn"
   },
   "outputs": [],
   "source": [
    "# Тренируем, также передавая все три части данных(X, результат воздействия, наличие воздействия)\n",
    "tm = tm.fit(\n",
    "    X_train, y_train, treat_train,\n",
    "    estimator_trmnt_fit_params={'cat_features': cat_features}, \n",
    "    estimator_ctrl_fit_params={'cat_features': cat_features}\n",
    ")"
   ]
  },
  {
   "cell_type": "markdown",
   "metadata": {
    "id": "c6T_s-GDzA9F"
   },
   "source": [
    "Получим предикты и метрику"
   ]
  },
  {
   "cell_type": "code",
   "execution_count": 25,
   "metadata": {
    "id": "ZVEwjOuRytt9"
   },
   "outputs": [],
   "source": [
    "uplift_tm = tm.predict(X_val)\n",
    "\n",
    "tm_score = uplift_at_k(y_true=y_val, uplift=uplift_tm, treatment=treat_val, strategy='by_group', k=0.3)\n",
    "\n",
    "# Добавляем результат модели в словарь для сравнения результатов\n",
    "models_results['Модель'].append('TwoModels')\n",
    "models_results['uplift@30%'].append(tm_score)"
   ]
  },
  {
   "cell_type": "markdown",
   "metadata": {
    "id": "bsGyBnrTytvt"
   },
   "source": [
    "Также посмотрим на распредедение вероятностей в решении T-learner"
   ]
  },
  {
   "cell_type": "code",
   "execution_count": 26,
   "metadata": {
    "colab": {
     "base_uri": "https://localhost:8080/",
     "height": 444
    },
    "id": "nHlQE8gAyt1I",
    "outputId": "687cb875-a4ff-4b6a-dc16-ca08e297b7c0"
   },
   "outputs": [
    {
     "data": {
      "image/png": "[encoded data removed]",
      "text/plain": [
       "<Figure size 1440x504 with 3 Axes>"
      ]
     },
     "metadata": {
      "needs_background": "light",
      "tags": []
     },
     "output_type": "display_data"
    }
   ],
   "source": [
    "plot_uplift_preds_(trmnt_preds=tm.trmnt_preds_, ctrl_preds=tm.ctrl_preds_, bins=20);"
   ]
  },
  {
   "cell_type": "markdown",
   "metadata": {
    "id": "k0RWqnwX0lxE"
   },
   "source": [
    "Сравним два типа подхода к решению задачи uplift."
   ]
  },
  {
   "cell_type": "code",
   "execution_count": 27,
   "metadata": {
    "colab": {
     "base_uri": "https://localhost:8080/",
     "height": 111
    },
    "id": "dFhoVPzFyt4Z",
    "outputId": "7f2fcbbf-bd7f-4b29-a12b-beabe2f95def"
   },
   "outputs": [
    {
     "data": {
      "text/html": [
       "<div>\n",
       "<style scoped>\n",
       "    .dataframe tbody tr th:only-of-type {\n",
       "        vertical-align: middle;\n",
       "    }\n",
       "\n",
       "    .dataframe tbody tr th {\n",
       "        vertical-align: top;\n",
       "    }\n",
       "\n",
       "    .dataframe thead th {\n",
       "        text-align: right;\n",
       "    }\n",
       "</style>\n",
       "<table border=\"1\" class=\"dataframe\">\n",
       "  <thead>\n",
       "    <tr style=\"text-align: right;\">\n",
       "      <th></th>\n",
       "      <th>Модель</th>\n",
       "      <th>uplift@30%</th>\n",
       "    </tr>\n",
       "  </thead>\n",
       "  <tbody>\n",
       "    <tr>\n",
       "      <th>0</th>\n",
       "      <td>SoloModel</td>\n",
       "      <td>0.072309</td>\n",
       "    </tr>\n",
       "    <tr>\n",
       "      <th>1</th>\n",
       "      <td>TwoModels</td>\n",
       "      <td>0.060440</td>\n",
       "    </tr>\n",
       "  </tbody>\n",
       "</table>\n",
       "</div>"
      ],
      "text/plain": [
       "      Модель  uplift@30%\n",
       "0  SoloModel    0.072309\n",
       "1  TwoModels    0.060440"
      ]
     },
     "execution_count": 27,
     "metadata": {
      "tags": []
     },
     "output_type": "execute_result"
    }
   ],
   "source": [
    "pd.DataFrame(data=models_results)"
   ]
  },
  {
   "cell_type": "markdown",
   "metadata": {
    "id": "o-oyNqdeyt6J"
   },
   "source": [
    "Мы можем наблюдать, что сольная модель справилась с задачей лучше двух независимых моделей. Но следует заметить, что T-learner не откалиброван и при должной калибровке возможно выдаст более лучшие результаты"
   ]
  },
  {
   "cell_type": "markdown",
   "metadata": {
    "id": "GfN3n9bD1EGt"
   },
   "source": [
    "## 4.Подход с использование трансформации класса"
   ]
  },
  {
   "cell_type": "markdown",
   "metadata": {
    "id": "9c80hM4yFabb"
   },
   "source": [
    "В данном подходе нам нужно найти тех клиентов, которые интересуют нас как цель:\n",
    "- Клиенты, которых мы потеряем, если не \"позвоним\"\n",
    "- Клиенты, которые независимо от факта воздействия останутся\n",
    "\n",
    "В таком случае можно попробовать решить пробему, опираясь на трансформацию классов.\n",
    "Мы построим агрегированный целевой признак, который будет объединять между собой ситуации воздействия и результата + отсутвие воздействия и отсутвие результата.\n",
    "\n",
    "$$Z = Y*W +(1-Y)*(1-W)$$\n",
    "Где:\n",
    "- Z - новая целевая переменная клиента\n",
    "- Y - целевая переменная клиента\n",
    "- W - факт взаимодействия на клиента\n",
    "\n",
    "Тогда на выходе интересующие нас объекты будут иметь Z = 1, а не интересующие Z = 0\n",
    "\n",
    "**Не знаю, можно ли назвать это недостатком**,но в данном методе необходим баланс фактов воздействия. \n",
    "\n",
    "P.S. Конкретные данные не отбалансированы по treatment, результат может быть некорректным"
   ]
  },
  {
   "cell_type": "code",
   "execution_count": 28,
   "metadata": {
    "id": "upDM9SGsFads"
   },
   "outputs": [],
   "source": [
    "from sklift.models import ClassTransformation"
   ]
  },
  {
   "cell_type": "code",
   "execution_count": 29,
   "metadata": {
    "colab": {
     "base_uri": "https://localhost:8080/"
    },
    "id": "VD_rSiWoFagK",
    "outputId": "8d86e7a2-a402-4be3-ed05-829eaad46059"
   },
   "outputs": [
    {
     "name": "stderr",
     "output_type": "stream",
     "text": [
      "/usr/local/lib/python3.7/dist-packages/ipykernel_launcher.py:2: UserWarning: It is recommended to use this approach on treatment balanced data. Current sample size is unbalanced.\n",
      "  \n"
     ]
    }
   ],
   "source": [
    "ct = ClassTransformation(CatBoostClassifier(iterations=20, thread_count=2, random_state=42, silent=True))\n",
    "ct = ct.fit(X_train, y_train, treat_train, estimator_fit_params={'cat_features': cat_features})"
   ]
  },
  {
   "cell_type": "code",
   "execution_count": 30,
   "metadata": {
    "id": "psd2x5rAFaih"
   },
   "outputs": [],
   "source": [
    "uplift_ct = ct.predict(X_val)\n",
    "\n",
    "ct_score = uplift_at_k(y_true=y_val, uplift=uplift_ct, treatment=treat_val, strategy='by_group', k=0.3)\n",
    "\n",
    "models_results['Модель'].append('ClassTransformation')\n",
    "models_results['uplift@30%'].append(ct_score)"
   ]
  },
  {
   "cell_type": "markdown",
   "metadata": {},
   "source": [
    "## 5. Краткий анализ результатов с опором на ML-метрику"
   ]
  },
  {
   "cell_type": "code",
   "execution_count": 31,
   "metadata": {
    "colab": {
     "base_uri": "https://localhost:8080/",
     "height": 142
    },
    "id": "mzaicpTzFanc",
    "outputId": "182d6839-fcb0-499f-b890-7e65bffafef9"
   },
   "outputs": [
    {
     "data": {
      "text/html": [
       "<div>\n",
       "<style scoped>\n",
       "    .dataframe tbody tr th:only-of-type {\n",
       "        vertical-align: middle;\n",
       "    }\n",
       "\n",
       "    .dataframe tbody tr th {\n",
       "        vertical-align: top;\n",
       "    }\n",
       "\n",
       "    .dataframe thead th {\n",
       "        text-align: right;\n",
       "    }\n",
       "</style>\n",
       "<table border=\"1\" class=\"dataframe\">\n",
       "  <thead>\n",
       "    <tr style=\"text-align: right;\">\n",
       "      <th></th>\n",
       "      <th>Модель</th>\n",
       "      <th>uplift@30%</th>\n",
       "    </tr>\n",
       "  </thead>\n",
       "  <tbody>\n",
       "    <tr>\n",
       "      <th>0</th>\n",
       "      <td>SoloModel</td>\n",
       "      <td>0.072309</td>\n",
       "    </tr>\n",
       "    <tr>\n",
       "      <th>2</th>\n",
       "      <td>ClassTransformation</td>\n",
       "      <td>0.065942</td>\n",
       "    </tr>\n",
       "    <tr>\n",
       "      <th>1</th>\n",
       "      <td>TwoModels</td>\n",
       "      <td>0.060440</td>\n",
       "    </tr>\n",
       "  </tbody>\n",
       "</table>\n",
       "</div>"
      ],
      "text/plain": [
       "                Модель  uplift@30%\n",
       "0            SoloModel    0.072309\n",
       "2  ClassTransformation    0.065942\n",
       "1            TwoModels    0.060440"
      ]
     },
     "execution_count": 31,
     "metadata": {
      "tags": []
     },
     "output_type": "execute_result"
    }
   ],
   "source": [
    "pd.DataFrame(data=models_results).sort_values('uplift@30%', ascending = False)"
   ]
  },
  {
   "cell_type": "markdown",
   "metadata": {
    "id": "Kle0FXzvJwz1"
   },
   "source": [
    "Можем наблюдать, что трансформация класса дала прирост в 0.5% относительно T-learner\n",
    "\n",
    "Однако балансировки взаимодействия и калибровки моделей S-learner показывает себя лучше всех, что не удивительно.\n",
    "\n",
    "Также для каждой модели необходимо проводить тесты"
   ]
  },
  {
   "cell_type": "code",
   "execution_count": 31,
   "metadata": {
    "id": "jPMks_pBKQuo"
   },
   "outputs": [],
   "source": []
  }
 ],
 "metadata": {
  "colab": {
   "collapsed_sections": [],
   "name": "S-learner_T-learner.ipynb",
   "provenance": []
  },
  "kernelspec": {
   "display_name": "Python 3",
   "language": "python",
   "name": "python3"
  },
  "language_info": {
   "codemirror_mode": {
    "name": "ipython",
    "version": 3
   },
   "file_extension": ".py",
   "mimetype": "text/x-python",
   "name": "python",
   "nbconvert_exporter": "python",
   "pygments_lexer": "ipython3",
   "version": "3.8.4"
  }
 },
 "nbformat": 4,
 "nbformat_minor": 1
}
