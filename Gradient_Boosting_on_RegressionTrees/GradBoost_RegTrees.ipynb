{
 "cells": [
  {
   "cell_type": "markdown",
   "metadata": {},
   "source": [
    "## Gradient Boosting on RegressionTrees"
   ]
  },
  {
   "cell_type": "markdown",
   "metadata": {},
   "source": [
    "This solution was not created for the purpose of knocking out the maximum score. It demonstrates how Gradient Descent works on regression trees. Also included in the solution, for cognitive purposes, is the method of principal components and normalization."
   ]
  },
  {
   "cell_type": "code",
   "execution_count": 1,
   "metadata": {},
   "outputs": [],
   "source": [
    "import numpy as np\n",
    "import pandas as pd\n",
    "import matplotlib.pyplot as plt\n",
    "import seaborn as sns\n",
    "import itertools"
   ]
  },
  {
   "cell_type": "code",
   "execution_count": 2,
   "metadata": {},
   "outputs": [
    {
     "data": {
      "text/html": [
       "<div>\n",
       "<style scoped>\n",
       "    .dataframe tbody tr th:only-of-type {\n",
       "        vertical-align: middle;\n",
       "    }\n",
       "\n",
       "    .dataframe tbody tr th {\n",
       "        vertical-align: top;\n",
       "    }\n",
       "\n",
       "    .dataframe thead th {\n",
       "        text-align: right;\n",
       "    }\n",
       "</style>\n",
       "<table border=\"1\" class=\"dataframe\">\n",
       "  <thead>\n",
       "    <tr style=\"text-align: right;\">\n",
       "      <th></th>\n",
       "      <th>Id</th>\n",
       "      <th>age</th>\n",
       "      <th>years_of_experience</th>\n",
       "      <th>lesson_price</th>\n",
       "      <th>qualification</th>\n",
       "      <th>physics</th>\n",
       "      <th>chemistry</th>\n",
       "      <th>biology</th>\n",
       "      <th>english</th>\n",
       "      <th>geography</th>\n",
       "      <th>history</th>\n",
       "      <th>mean_exam_points</th>\n",
       "    </tr>\n",
       "  </thead>\n",
       "  <tbody>\n",
       "    <tr>\n",
       "      <th>0</th>\n",
       "      <td>0</td>\n",
       "      <td>40.0</td>\n",
       "      <td>0.0</td>\n",
       "      <td>1400.0</td>\n",
       "      <td>1.0</td>\n",
       "      <td>1.0</td>\n",
       "      <td>0.0</td>\n",
       "      <td>0.0</td>\n",
       "      <td>0.0</td>\n",
       "      <td>1.0</td>\n",
       "      <td>0.0</td>\n",
       "      <td>63.0</td>\n",
       "    </tr>\n",
       "    <tr>\n",
       "      <th>1</th>\n",
       "      <td>1</td>\n",
       "      <td>48.0</td>\n",
       "      <td>4.0</td>\n",
       "      <td>2850.0</td>\n",
       "      <td>3.0</td>\n",
       "      <td>1.0</td>\n",
       "      <td>0.0</td>\n",
       "      <td>0.0</td>\n",
       "      <td>0.0</td>\n",
       "      <td>0.0</td>\n",
       "      <td>0.0</td>\n",
       "      <td>86.0</td>\n",
       "    </tr>\n",
       "    <tr>\n",
       "      <th>2</th>\n",
       "      <td>2</td>\n",
       "      <td>39.0</td>\n",
       "      <td>0.0</td>\n",
       "      <td>1200.0</td>\n",
       "      <td>1.0</td>\n",
       "      <td>0.0</td>\n",
       "      <td>0.0</td>\n",
       "      <td>0.0</td>\n",
       "      <td>0.0</td>\n",
       "      <td>0.0</td>\n",
       "      <td>0.0</td>\n",
       "      <td>53.0</td>\n",
       "    </tr>\n",
       "    <tr>\n",
       "      <th>3</th>\n",
       "      <td>3</td>\n",
       "      <td>46.0</td>\n",
       "      <td>5.0</td>\n",
       "      <td>1400.0</td>\n",
       "      <td>1.0</td>\n",
       "      <td>0.0</td>\n",
       "      <td>0.0</td>\n",
       "      <td>0.0</td>\n",
       "      <td>0.0</td>\n",
       "      <td>0.0</td>\n",
       "      <td>0.0</td>\n",
       "      <td>56.0</td>\n",
       "    </tr>\n",
       "    <tr>\n",
       "      <th>4</th>\n",
       "      <td>4</td>\n",
       "      <td>43.0</td>\n",
       "      <td>1.0</td>\n",
       "      <td>1500.0</td>\n",
       "      <td>1.0</td>\n",
       "      <td>0.0</td>\n",
       "      <td>0.0</td>\n",
       "      <td>0.0</td>\n",
       "      <td>0.0</td>\n",
       "      <td>0.0</td>\n",
       "      <td>0.0</td>\n",
       "      <td>59.0</td>\n",
       "    </tr>\n",
       "  </tbody>\n",
       "</table>\n",
       "</div>"
      ],
      "text/plain": [
       "   Id   age  years_of_experience  lesson_price  qualification  physics  \\\n",
       "0   0  40.0                  0.0        1400.0            1.0      1.0   \n",
       "1   1  48.0                  4.0        2850.0            3.0      1.0   \n",
       "2   2  39.0                  0.0        1200.0            1.0      0.0   \n",
       "3   3  46.0                  5.0        1400.0            1.0      0.0   \n",
       "4   4  43.0                  1.0        1500.0            1.0      0.0   \n",
       "\n",
       "   chemistry  biology  english  geography  history  mean_exam_points  \n",
       "0        0.0      0.0      0.0        1.0      0.0              63.0  \n",
       "1        0.0      0.0      0.0        0.0      0.0              86.0  \n",
       "2        0.0      0.0      0.0        0.0      0.0              53.0  \n",
       "3        0.0      0.0      0.0        0.0      0.0              56.0  \n",
       "4        0.0      0.0      0.0        0.0      0.0              59.0  "
      ]
     },
     "execution_count": 2,
     "metadata": {},
     "output_type": "execute_result"
    }
   ],
   "source": [
    "train = pd.read_csv('train.csv')\n",
    "test = pd.read_csv('test.csv')\n",
    "train.head()"
   ]
  },
  {
   "cell_type": "code",
   "execution_count": 3,
   "metadata": {},
   "outputs": [
    {
     "data": {
      "text/html": [
       "<div>\n",
       "<style scoped>\n",
       "    .dataframe tbody tr th:only-of-type {\n",
       "        vertical-align: middle;\n",
       "    }\n",
       "\n",
       "    .dataframe tbody tr th {\n",
       "        vertical-align: top;\n",
       "    }\n",
       "\n",
       "    .dataframe thead th {\n",
       "        text-align: right;\n",
       "    }\n",
       "</style>\n",
       "<table border=\"1\" class=\"dataframe\">\n",
       "  <thead>\n",
       "    <tr style=\"text-align: right;\">\n",
       "      <th></th>\n",
       "      <th>count</th>\n",
       "      <th>mean</th>\n",
       "      <th>std</th>\n",
       "      <th>min</th>\n",
       "      <th>25%</th>\n",
       "      <th>50%</th>\n",
       "      <th>75%</th>\n",
       "      <th>max</th>\n",
       "    </tr>\n",
       "  </thead>\n",
       "  <tbody>\n",
       "    <tr>\n",
       "      <th>Id</th>\n",
       "      <td>10000.0</td>\n",
       "      <td>4999.5000</td>\n",
       "      <td>2886.895680</td>\n",
       "      <td>0.0</td>\n",
       "      <td>2499.75</td>\n",
       "      <td>4999.5</td>\n",
       "      <td>7499.25</td>\n",
       "      <td>9999.0</td>\n",
       "    </tr>\n",
       "    <tr>\n",
       "      <th>age</th>\n",
       "      <td>10000.0</td>\n",
       "      <td>45.8780</td>\n",
       "      <td>8.043929</td>\n",
       "      <td>23.0</td>\n",
       "      <td>40.00</td>\n",
       "      <td>46.0</td>\n",
       "      <td>51.00</td>\n",
       "      <td>68.0</td>\n",
       "    </tr>\n",
       "    <tr>\n",
       "      <th>years_of_experience</th>\n",
       "      <td>10000.0</td>\n",
       "      <td>1.9868</td>\n",
       "      <td>1.772213</td>\n",
       "      <td>0.0</td>\n",
       "      <td>0.00</td>\n",
       "      <td>2.0</td>\n",
       "      <td>3.00</td>\n",
       "      <td>10.0</td>\n",
       "    </tr>\n",
       "    <tr>\n",
       "      <th>lesson_price</th>\n",
       "      <td>10000.0</td>\n",
       "      <td>1699.1050</td>\n",
       "      <td>524.886654</td>\n",
       "      <td>200.0</td>\n",
       "      <td>1300.00</td>\n",
       "      <td>1500.0</td>\n",
       "      <td>2150.00</td>\n",
       "      <td>3950.0</td>\n",
       "    </tr>\n",
       "    <tr>\n",
       "      <th>qualification</th>\n",
       "      <td>10000.0</td>\n",
       "      <td>1.7195</td>\n",
       "      <td>0.792264</td>\n",
       "      <td>1.0</td>\n",
       "      <td>1.00</td>\n",
       "      <td>2.0</td>\n",
       "      <td>2.00</td>\n",
       "      <td>4.0</td>\n",
       "    </tr>\n",
       "    <tr>\n",
       "      <th>physics</th>\n",
       "      <td>10000.0</td>\n",
       "      <td>0.3750</td>\n",
       "      <td>0.484147</td>\n",
       "      <td>0.0</td>\n",
       "      <td>0.00</td>\n",
       "      <td>0.0</td>\n",
       "      <td>1.00</td>\n",
       "      <td>1.0</td>\n",
       "    </tr>\n",
       "    <tr>\n",
       "      <th>chemistry</th>\n",
       "      <td>10000.0</td>\n",
       "      <td>0.1329</td>\n",
       "      <td>0.339484</td>\n",
       "      <td>0.0</td>\n",
       "      <td>0.00</td>\n",
       "      <td>0.0</td>\n",
       "      <td>0.00</td>\n",
       "      <td>1.0</td>\n",
       "    </tr>\n",
       "    <tr>\n",
       "      <th>biology</th>\n",
       "      <td>10000.0</td>\n",
       "      <td>0.1096</td>\n",
       "      <td>0.312406</td>\n",
       "      <td>0.0</td>\n",
       "      <td>0.00</td>\n",
       "      <td>0.0</td>\n",
       "      <td>0.00</td>\n",
       "      <td>1.0</td>\n",
       "    </tr>\n",
       "    <tr>\n",
       "      <th>english</th>\n",
       "      <td>10000.0</td>\n",
       "      <td>0.0537</td>\n",
       "      <td>0.225436</td>\n",
       "      <td>0.0</td>\n",
       "      <td>0.00</td>\n",
       "      <td>0.0</td>\n",
       "      <td>0.00</td>\n",
       "      <td>1.0</td>\n",
       "    </tr>\n",
       "    <tr>\n",
       "      <th>geography</th>\n",
       "      <td>10000.0</td>\n",
       "      <td>0.0321</td>\n",
       "      <td>0.176274</td>\n",
       "      <td>0.0</td>\n",
       "      <td>0.00</td>\n",
       "      <td>0.0</td>\n",
       "      <td>0.00</td>\n",
       "      <td>1.0</td>\n",
       "    </tr>\n",
       "    <tr>\n",
       "      <th>history</th>\n",
       "      <td>10000.0</td>\n",
       "      <td>0.0194</td>\n",
       "      <td>0.137933</td>\n",
       "      <td>0.0</td>\n",
       "      <td>0.00</td>\n",
       "      <td>0.0</td>\n",
       "      <td>0.00</td>\n",
       "      <td>1.0</td>\n",
       "    </tr>\n",
       "    <tr>\n",
       "      <th>mean_exam_points</th>\n",
       "      <td>10000.0</td>\n",
       "      <td>64.3408</td>\n",
       "      <td>13.536823</td>\n",
       "      <td>32.0</td>\n",
       "      <td>55.00</td>\n",
       "      <td>63.0</td>\n",
       "      <td>73.00</td>\n",
       "      <td>100.0</td>\n",
       "    </tr>\n",
       "  </tbody>\n",
       "</table>\n",
       "</div>"
      ],
      "text/plain": [
       "                       count       mean          std    min      25%     50%  \\\n",
       "Id                   10000.0  4999.5000  2886.895680    0.0  2499.75  4999.5   \n",
       "age                  10000.0    45.8780     8.043929   23.0    40.00    46.0   \n",
       "years_of_experience  10000.0     1.9868     1.772213    0.0     0.00     2.0   \n",
       "lesson_price         10000.0  1699.1050   524.886654  200.0  1300.00  1500.0   \n",
       "qualification        10000.0     1.7195     0.792264    1.0     1.00     2.0   \n",
       "physics              10000.0     0.3750     0.484147    0.0     0.00     0.0   \n",
       "chemistry            10000.0     0.1329     0.339484    0.0     0.00     0.0   \n",
       "biology              10000.0     0.1096     0.312406    0.0     0.00     0.0   \n",
       "english              10000.0     0.0537     0.225436    0.0     0.00     0.0   \n",
       "geography            10000.0     0.0321     0.176274    0.0     0.00     0.0   \n",
       "history              10000.0     0.0194     0.137933    0.0     0.00     0.0   \n",
       "mean_exam_points     10000.0    64.3408    13.536823   32.0    55.00    63.0   \n",
       "\n",
       "                         75%     max  \n",
       "Id                   7499.25  9999.0  \n",
       "age                    51.00    68.0  \n",
       "years_of_experience     3.00    10.0  \n",
       "lesson_price         2150.00  3950.0  \n",
       "qualification           2.00     4.0  \n",
       "physics                 1.00     1.0  \n",
       "chemistry               0.00     1.0  \n",
       "biology                 0.00     1.0  \n",
       "english                 0.00     1.0  \n",
       "geography               0.00     1.0  \n",
       "history                 0.00     1.0  \n",
       "mean_exam_points       73.00   100.0  "
      ]
     },
     "execution_count": 3,
     "metadata": {},
     "output_type": "execute_result"
    }
   ],
   "source": [
    "train.describe().T"
   ]
  },
  {
   "cell_type": "markdown",
   "metadata": {},
   "source": [
    "Let's look at distributions"
   ]
  },
  {
   "cell_type": "code",
   "execution_count": 4,
   "metadata": {},
   "outputs": [
    {
     "data": {
      "image/png": "[encoded data removed]",
      "text/plain": [
       "<Figure size 864x1008 with 12 Axes>"
      ]
     },
     "metadata": {
      "needs_background": "light"
     },
     "output_type": "display_data"
    }
   ],
   "source": [
    "train.hist(figsize =(12,14),bins = 15, grid = True)\n",
    "plt.show()"
   ]
  },
  {
   "cell_type": "code",
   "execution_count": 5,
   "metadata": {},
   "outputs": [
    {
     "data": {
      "image/png": "[encoded data removed]",
      "text/plain": [
       "<Figure size 864x1008 with 12 Axes>"
      ]
     },
     "metadata": {
      "needs_background": "light"
     },
     "output_type": "display_data"
    }
   ],
   "source": [
    "test.hist(figsize =(12,14),bins = 15, grid = True)\n",
    "plt.show()"
   ]
  },
  {
   "cell_type": "markdown",
   "metadata": {},
   "source": [
    "Corr matrix"
   ]
  },
  {
   "cell_type": "code",
   "execution_count": 6,
   "metadata": {},
   "outputs": [
    {
     "data": {
      "image/png": "[encoded data removed]",
      "text/plain": [
       "<Figure size 1008x864 with 2 Axes>"
      ]
     },
     "metadata": {
      "needs_background": "light"
     },
     "output_type": "display_data"
    }
   ],
   "source": [
    "plt.rcParams['figure.figsize'] = (14.0, 12.0)\n",
    "sns.heatmap(train.corr(), annot = True,fmt='.2g', vmin=-1, vmax=1, center= 0, linewidths = 2, cmap = 'GnBu')\n",
    "plt.title('Тепловая матрица корреляций')\n",
    "plt.show()"
   ]
  },
  {
   "cell_type": "markdown",
   "metadata": {},
   "source": [
    "### Lets make one feature (для приличия выведем один признак)"
   ]
  },
  {
   "cell_type": "code",
   "execution_count": 7,
   "metadata": {},
   "outputs": [],
   "source": [
    "train['qualification * years_of_experience'] = train['qualification'] * train['years_of_experience']\n",
    "test['qualification * years_of_experience'] = test['qualification'] * test['years_of_experience']\n",
    "\n",
    "temp = test.drop(columns='Id')"
   ]
  },
  {
   "cell_type": "code",
   "execution_count": 8,
   "metadata": {},
   "outputs": [],
   "source": [
    "# Приведем данные к формату array\n",
    "features = temp.columns\n",
    "target = 'mean_exam_points'\n",
    "X = train[features].values\n",
    "y = train[target].values\n",
    "test_set = test[features].values"
   ]
  },
  {
   "cell_type": "markdown",
   "metadata": {},
   "source": [
    "### PCA"
   ]
  },
  {
   "cell_type": "code",
   "execution_count": 9,
   "metadata": {},
   "outputs": [],
   "source": [
    "class PCA():\n",
    "    def __init__(self, n_components):\n",
    "        self.n_components = n_components\n",
    "\n",
    "    def fit_transform(self, data):\n",
    "        data_ = data.astype(float)\n",
    "        cov_matrix = data_.T.dot(data_) # COV matrix\n",
    "        eig_values, eig_vectors = np.linalg.eig(cov_matrix) # Собственные значения, собственные вектора\n",
    "        eig_pairs = [(np.abs(eig_values[i]), eig_vectors[:,i]) for i in range(len(eig_values))] # список кортежей (значение, вектор)\n",
    "        eig_pairs.sort(key=lambda x: x[0], reverse=True) # сортируем список по убыванию eig_values\n",
    "\n",
    "        eig_sum = sum(eig_values)\n",
    "        var_exp = [(i / eig_sum) * 100 for i in sorted(eig_values, reverse=True)]\n",
    "        cum_var_exp = np.cumsum(var_exp)\n",
    "\n",
    "        w = np.hstack(([eig_pairs[i][1].reshape(data.shape[1], 1) for i in range(self.n_components)]))\n",
    "        data_pca = data_.dot(w)\n",
    "        return data_pca, print(f'Доля дисперсии, описываемая каждой компонентой \\n{var_exp}'),\\\n",
    "    print(f'Кумулятивная доля дисперсии \\n{cum_var_exp}')"
   ]
  },
  {
   "cell_type": "code",
   "execution_count": 10,
   "metadata": {},
   "outputs": [
    {
     "name": "stdout",
     "output_type": "stream",
     "text": [
      "Доля дисперсии, описываемая каждой компонентой \n",
      "[99.99989823183077, 9.405528578671811e-05, 7.71288345065234e-06]\n",
      "Кумулятивная доля дисперсии \n",
      "[ 99.99989823  99.99999229 100.        ]\n"
     ]
    }
   ],
   "source": [
    "imp = ['years_of_experience','lesson_price','qualification']\n",
    "pca = PCA(n_components=1)\n",
    "train_components = pca.fit_transform(train[imp])"
   ]
  },
  {
   "cell_type": "code",
   "execution_count": 11,
   "metadata": {},
   "outputs": [
    {
     "data": {
      "text/plain": [
       "array([[1399.99937786],\n",
       "       [2850.0042865 ],\n",
       "       [1199.99961356],\n",
       "       ...,\n",
       "       [1250.00069513],\n",
       "       [1100.00315289],\n",
       "       [1449.99931894]])"
      ]
     },
     "execution_count": 11,
     "metadata": {},
     "output_type": "execute_result"
    }
   ],
   "source": [
    "pca_1 = train_components[0][:].values\n",
    "pca_1"
   ]
  },
  {
   "cell_type": "code",
   "execution_count": 12,
   "metadata": {},
   "outputs": [],
   "source": [
    "#X = np.hstack((X,pca_1))"
   ]
  },
  {
   "cell_type": "code",
   "execution_count": 13,
   "metadata": {},
   "outputs": [
    {
     "name": "stdout",
     "output_type": "stream",
     "text": [
      "Доля дисперсии, описываемая каждой компонентой \n",
      "[99.99989607297034, 9.645848434026375e-05, 7.468545328482112e-06]\n",
      "Кумулятивная доля дисперсии \n",
      "[ 99.99989607  99.99999253 100.        ]\n"
     ]
    },
    {
     "data": {
      "text/plain": [
       "array([[1050.00320024],\n",
       "       [1850.00329066],\n",
       "       [1550.00034805],\n",
       "       ...,\n",
       "       [1100.00540977],\n",
       "       [1750.00000558],\n",
       "       [2000.00538334]])"
      ]
     },
     "execution_count": 13,
     "metadata": {},
     "output_type": "execute_result"
    }
   ],
   "source": [
    "test_components = pca.fit_transform(test[imp])\n",
    "pca_1 = test_components[0][:].values\n",
    "pca_1"
   ]
  },
  {
   "cell_type": "code",
   "execution_count": 14,
   "metadata": {},
   "outputs": [],
   "source": [
    "#test_set = np.hstack((test_set,pca_1))"
   ]
  },
  {
   "cell_type": "markdown",
   "metadata": {},
   "source": [
    "### Нормализуем данные ( Standard scaler )"
   ]
  },
  {
   "cell_type": "code",
   "execution_count": 15,
   "metadata": {},
   "outputs": [],
   "source": [
    "def normalin(data):\n",
    "    means = np.mean(data, axis=0)\n",
    "    stds = np.std(data, axis=0)\n",
    "    for i in range(data.shape[0]):\n",
    "        for j in range(data.shape[1]):\n",
    "            data[i][j] = (data[i][j] - means[j])/stds[j]\n",
    "    return data"
   ]
  },
  {
   "cell_type": "code",
   "execution_count": 16,
   "metadata": {},
   "outputs": [],
   "source": [
    "#normalin(X)\n",
    "#normalin(test_set)"
   ]
  },
  {
   "cell_type": "markdown",
   "metadata": {},
   "source": [
    "### Создадим нашу модель. Попробуем градиентный бустинг на основе регрессора деревьев решений\n",
    "\n",
    "### Let's try to make gradient boosting based on decision trees regressor\n",
    "\n",
    "#### RegressionTree"
   ]
  },
  {
   "cell_type": "code",
   "execution_count": 17,
   "metadata": {},
   "outputs": [],
   "source": [
    "class Node:\n",
    "\n",
    "    def __init__(self, index, t, true_branch, false_branch):\n",
    "        # index of the attribute to compare with the threshold in the node / индекс признака для сравнения с порогом в узле\n",
    "        self.index = index\n",
    "        # treshold\n",
    "        self.t = t \n",
    "        # branch satisfies condition in node / поддерево, удовлетворяющее условию в узле\n",
    "        self.true_branch = true_branch \n",
    "        self.false_branch = false_branch\n",
    "\n",
    "class Leaf:\n",
    "\n",
    "    def __init__(self, data, values):\n",
    "        self.data = data\n",
    "        self.values = values\n",
    "        self.prediction = self.predict()\n",
    "\n",
    "    def predict(self):\n",
    "\n",
    "        prediction = np.mean(self.values)\n",
    "        return prediction"
   ]
  },
  {
   "cell_type": "code",
   "execution_count": 18,
   "metadata": {},
   "outputs": [],
   "source": [
    "class RegressionTree():\n",
    "\n",
    "    def __init__(self, max_depth = 50):\n",
    "        self.max_depth = max_depth\n",
    "        self.tree = None\n",
    "\n",
    "    # inform criterion /  критерий информативности\n",
    "    # In regression, the spread of values will be characterized by variance\n",
    "    # В случае регрессии разброс значений будет характеризоваться дисперсией\n",
    "    def inf_criterion(self, values):\n",
    "        return np.var(values)\n",
    "\n",
    "    # Quality calculation function / Функция рассчета качества\n",
    "    def quality(self, left_labels, right_labels, current_dispersion):\n",
    "        # доля выбоки, ушедшая в левое поддерево\n",
    "        p = float(left_labels.shape[0]) / (left_labels.shape[0] + right_labels.shape[0])\n",
    "        return current_dispersion - p * self.inf_criterion(left_labels) - (1 - p) * self.inf_criterion(right_labels)\n",
    "\n",
    "    # Splitting data function / Функция разбиение данных в узле\n",
    "    def split(self, data, values, index, t):\n",
    "\n",
    "        left = np.where(data[:, index] <= t)\n",
    "        right = np.where(data[:, index] > t)\n",
    "\n",
    "        true_data = data[left]\n",
    "        false_data = data[right]\n",
    "        true_values = values[left]\n",
    "        false_values = values[right]\n",
    "\n",
    "        return true_data, false_data, true_values, false_values\n",
    "\n",
    "    # Finding the best split / Функция нахождения наилучшего разбиения\n",
    "    def find_best_split(self, data, values):\n",
    "\n",
    "        # minimum number of objects in node / обозначим минимальное количество объектов в узле\n",
    "        min_leaf = 5\n",
    "        current_inf = self.inf_criterion(values)\n",
    "        best_quality = 0\n",
    "        best_t = None\n",
    "        best_index = None\n",
    "\n",
    "        n_features = data.shape[1]\n",
    "\n",
    "        for index in range(n_features):\n",
    "            # check only unique values / проверяем только уникальные значения признака\n",
    "            t_values = np.unique([row[index] for row in data])\n",
    "\n",
    "            for t in t_values:\n",
    "                true_data, false_data, true_labels, false_labels = self.split(data, values, index, t)\n",
    "                # If there < 5 objects left in node, we skip node\n",
    "                #  Если в узле остается < 5 объектов - пропускаем узел\n",
    "                if len(true_data) < min_leaf or len(false_data) < min_leaf:\n",
    "                    continue\n",
    "\n",
    "                current_quality = self.quality(true_labels, false_labels, current_inf)\n",
    "\n",
    "                # selecting threshold with maximum quality\n",
    "                #  выбираем порог с максимальным приростом качества\n",
    "                if current_quality > best_quality:\n",
    "                    best_quality, best_t, best_index = current_quality, t, index\n",
    "\n",
    "        return best_quality, best_t, best_index\n",
    "\n",
    "    # building a tree / Функция построения дерева\n",
    "    def build_tree(self, data, values, current_deep, max_depth):\n",
    "\n",
    "        quality, t, index = self.find_best_split(data, values)\n",
    "\n",
    "        # Stop recursion if there is no quality gain\n",
    "        # Первый базовый случай (прекращаем рекурсию, если нет прироста качества)\n",
    "        if quality == 0:\n",
    "            return Leaf(data, values)\n",
    "        # Stop recursion if the tree depth is exceeded\n",
    "        # Второй базовый случай (прекращаем рекурсию, если превышена глубина дерева)\n",
    "        #(критерий считается достаточно грубым, но хорошо зарекомендовал себя в композициях деревьев)\n",
    "        if current_deep > max_depth:\n",
    "            return Leaf(data, values)\n",
    "\n",
    "        current_deep += 1\n",
    "\n",
    "        true_data, false_data, true_values, false_values = self.split(data, values, index, t)\n",
    "        # Building trees / Рекурсивно строим деревья\n",
    "        true_branch = self.build_tree(true_data, true_values, current_deep, max_depth)\n",
    "        false_branch = self.build_tree(false_data, false_values, current_deep, max_depth)\n",
    "\n",
    "        # Возвращаем класс узла всего дерева\n",
    "        return Node(index, t, true_branch, false_branch)\n",
    "\n",
    "    # Predicting objects function\n",
    "    def predict_value(self, obj, node):\n",
    "\n",
    "        # If have reached the leaf - stop recursion\n",
    "        if isinstance(node, Leaf):\n",
    "            answer = node.prediction\n",
    "            return answer\n",
    "\n",
    "        if obj[node.index] <= node.t:\n",
    "            return self.predict_value(obj, node.true_branch)\n",
    "        else:\n",
    "            return self.predict_value(obj, node.false_branch)\n",
    "\n",
    "    def predict(self, data):\n",
    "\n",
    "        pred_values = []\n",
    "        for obj in data:\n",
    "            prediction = self.predict_value(obj, self.tree)\n",
    "            pred_values.append(prediction)\n",
    "        return pred_values\n",
    "\n",
    "    def fit(self, data, values):\n",
    "        self.tree = self.build_tree(data, values, 0, self.max_depth)"
   ]
  },
  {
   "cell_type": "markdown",
   "metadata": {},
   "source": [
    "#### Gradient Boosting"
   ]
  },
  {
   "cell_type": "code",
   "execution_count": 19,
   "metadata": {},
   "outputs": [],
   "source": [
    "class GradBoost:\n",
    "\n",
    "    def __init__(self, algoritm, max_depth, n_trees, alpha, coef):\n",
    "        self.max_depth = max_depth\n",
    "        self.n_trees = n_trees\n",
    "        self.alpha = alpha\n",
    "        self.coef = coef\n",
    "        self.trees = []\n",
    "        self.train_errors = []\n",
    "        self.test_errors = []\n",
    "        self.algoritm = algoritm\n",
    "    \n",
    "    def bias(self, y, z):\n",
    "        return 2*(y - z)\n",
    "\n",
    "    def fit(self, X_train,X_test, Y_train, Y_test):\n",
    "        # Cписок деревьев\n",
    "        trees = []\n",
    "\n",
    "        for i in range(self.n_trees):\n",
    "            tree = self.algoritm(max_depth=self.max_depth)\n",
    "            # инициализируем бустинг начальным алгоритмом, возвращающим ноль,\n",
    "            # поэтому первый алгоритм просто обучаем на выборке и добавляем в список\n",
    "            if len(trees) == 0:\n",
    "                tree.fit(X_train, Y_train)\n",
    "                \n",
    "                self.train_errors.append(mean_squared_error(Y_train, self.predict(X_train)))\n",
    "                self.test_errors.append(mean_squared_error(Y_test, self.predict(X_test)))\n",
    "            else:\n",
    "                # Получим ответы на текущей композиции\n",
    "                values = self.predict(X_train)\n",
    "                # алгоритмы начиная со второго обучаем на сдвиг\n",
    "                tree.fit(X_train, self.bias(Y_train, values))\n",
    "                \n",
    "                self.train_errors.append(mean_squared_error(Y_train, self.predict(X_train)))\n",
    "                self.test_errors.append(mean_squared_error(Y_test, self.predict(X_test)))\n",
    "                \n",
    "            self.trees.append(tree)\n",
    "        return self.trees, self.train_errors, self.test_errors\n",
    "\n",
    "    def predict(self, X):\n",
    "        return np.array([sum([self.alpha * coef * alg.predict([x])[0] for alg,\\\n",
    "                        coef in zip(self.trees, self.coef)]) for x in X])"
   ]
  },
  {
   "cell_type": "code",
   "execution_count": 20,
   "metadata": {},
   "outputs": [],
   "source": [
    "def r2_score(y, y_real):\n",
    "    ss_total=np.sum((y_real-np.mean(y_real))**2)\n",
    "    ss_res=np.sum((y_real-y)**2)\n",
    "    return 1-ss_res/ss_total\n",
    "\n",
    "def mean_squared_error(y_real, prediction):\n",
    "    return (sum((y_real - prediction)**2)) / len(y_real)"
   ]
  },
  {
   "cell_type": "markdown",
   "metadata": {},
   "source": [
    "train_test_split"
   ]
  },
  {
   "cell_type": "code",
   "execution_count": 21,
   "metadata": {},
   "outputs": [],
   "source": [
    "def tts(X, y, test_size, random_state):\n",
    "    np.random.seed(random_state)\n",
    "    \n",
    "    train_test_cut = int(len(X) * (1 - test_size))\n",
    "    \n",
    "    shuffle_index = np.random.permutation(X.shape[0])\n",
    "    X_shuffled, y_shuffled = X[shuffle_index], y[shuffle_index]\n",
    "    \n",
    "    X_train, X_test, y_train, y_test = \\\n",
    "    X_shuffled[:train_test_cut], \\\n",
    "    X_shuffled[train_test_cut:], \\\n",
    "    y_shuffled[:train_test_cut], \\\n",
    "    y_shuffled[train_test_cut:]\n",
    "    \n",
    "    return X_train, X_test, y_train, y_test"
   ]
  },
  {
   "cell_type": "code",
   "execution_count": 22,
   "metadata": {},
   "outputs": [
    {
     "data": {
      "text/plain": [
       "((7000, 11), (3000, 11), (7000,), (3000,))"
      ]
     },
     "execution_count": 22,
     "metadata": {},
     "output_type": "execute_result"
    }
   ],
   "source": [
    "X_train, X_test, y_train, y_test = tts(X,y,test_size = 0.3, random_state = 42)\n",
    "X_train.shape, X_test.shape, y_train.shape, y_test.shape"
   ]
  },
  {
   "cell_type": "code",
   "execution_count": 23,
   "metadata": {},
   "outputs": [],
   "source": [
    "# lets take coefficients equal to 1\n",
    "n_trees = 10\n",
    "coefs = [1] * n_trees"
   ]
  },
  {
   "cell_type": "code",
   "execution_count": 24,
   "metadata": {},
   "outputs": [],
   "source": [
    "model = GradBoost(algoritm=RegressionTree, max_depth=6, n_trees=n_trees, alpha=0.1, coef = coefs)"
   ]
  },
  {
   "cell_type": "code",
   "execution_count": 25,
   "metadata": {},
   "outputs": [],
   "source": [
    "# Тут я сразу обучил модель на всей выборке, чтобы потом не обучать еще раз для предикта по тестовой выборке\n",
    "# По хорошему так делать нельзя! С точки зрения валидации это неправильный подход.\n",
    "\n",
    "# I immediately trained model on the entire data. But on validations side this is wrong method.\n",
    "# Don't do that in real tasks.\n",
    "trees, train_errors, test_errors = model.fit(X,X_test,y, y_test)"
   ]
  },
  {
   "cell_type": "code",
   "execution_count": 26,
   "metadata": {},
   "outputs": [],
   "source": [
    "def evaluate_alg(X_train, X_test, y_train, y_test, trees):\n",
    "    train_prediction = model.predict(X_train)\n",
    "\n",
    "    print(f'Error of algorithm from {n_trees} trees on training set: {mean_squared_error(y_train, train_prediction)}')\n",
    "\n",
    "    test_prediction = model.predict(X_test)\n",
    "\n",
    "    print(f'Error of algorithm from {n_trees} trees on test set: {mean_squared_error(y_test, test_prediction)}')"
   ]
  },
  {
   "cell_type": "code",
   "execution_count": 27,
   "metadata": {},
   "outputs": [
    {
     "name": "stdout",
     "output_type": "stream",
     "text": [
      "Error of algorithm from 10 trees on training set: 38.390072535870935\n",
      "Error of algorithm from 10 trees on test set: 37.96031093366025\n"
     ]
    }
   ],
   "source": [
    "evaluate_alg(X_train, X_test, y_train, y_test, trees)"
   ]
  },
  {
   "cell_type": "code",
   "execution_count": 28,
   "metadata": {},
   "outputs": [
    {
     "data": {
      "text/plain": [
       "0.7913381350160842"
      ]
     },
     "execution_count": 28,
     "metadata": {},
     "output_type": "execute_result"
    }
   ],
   "source": [
    "y_train_pred = model.predict(X_train)\n",
    "r2_score(y_train_pred, y_train)"
   ]
  },
  {
   "cell_type": "code",
   "execution_count": 29,
   "metadata": {},
   "outputs": [
    {
     "data": {
      "text/plain": [
       "0.7907560616818643"
      ]
     },
     "execution_count": 29,
     "metadata": {},
     "output_type": "execute_result"
    }
   ],
   "source": [
    "y_test_pred = model.predict(X_test)\n",
    "r2_score(y_test_pred, y_test)"
   ]
  },
  {
   "cell_type": "code",
   "execution_count": 30,
   "metadata": {},
   "outputs": [],
   "source": [
    "test_pred = model.predict(test_set)"
   ]
  },
  {
   "cell_type": "code",
   "execution_count": 31,
   "metadata": {},
   "outputs": [],
   "source": [
    "sub = pd.concat([test['Id'], pd.Series(test_pred)], axis = 1)\n",
    "sub = sub.rename(columns = {0 : 'mean_exam_points'})"
   ]
  },
  {
   "cell_type": "code",
   "execution_count": 32,
   "metadata": {},
   "outputs": [
    {
     "data": {
      "text/html": [
       "<div>\n",
       "<style scoped>\n",
       "    .dataframe tbody tr th:only-of-type {\n",
       "        vertical-align: middle;\n",
       "    }\n",
       "\n",
       "    .dataframe tbody tr th {\n",
       "        vertical-align: top;\n",
       "    }\n",
       "\n",
       "    .dataframe thead th {\n",
       "        text-align: right;\n",
       "    }\n",
       "</style>\n",
       "<table border=\"1\" class=\"dataframe\">\n",
       "  <thead>\n",
       "    <tr style=\"text-align: right;\">\n",
       "      <th></th>\n",
       "      <th>Id</th>\n",
       "      <th>mean_exam_points</th>\n",
       "    </tr>\n",
       "  </thead>\n",
       "  <tbody>\n",
       "    <tr>\n",
       "      <th>0</th>\n",
       "      <td>10000</td>\n",
       "      <td>55.017523</td>\n",
       "    </tr>\n",
       "    <tr>\n",
       "      <th>1</th>\n",
       "      <td>10001</td>\n",
       "      <td>64.041096</td>\n",
       "    </tr>\n",
       "    <tr>\n",
       "      <th>2</th>\n",
       "      <td>10002</td>\n",
       "      <td>49.918919</td>\n",
       "    </tr>\n",
       "    <tr>\n",
       "      <th>3</th>\n",
       "      <td>10003</td>\n",
       "      <td>90.000000</td>\n",
       "    </tr>\n",
       "    <tr>\n",
       "      <th>4</th>\n",
       "      <td>10004</td>\n",
       "      <td>89.618557</td>\n",
       "    </tr>\n",
       "    <tr>\n",
       "      <th>...</th>\n",
       "      <td>...</td>\n",
       "      <td>...</td>\n",
       "    </tr>\n",
       "    <tr>\n",
       "      <th>9995</th>\n",
       "      <td>19995</td>\n",
       "      <td>40.142857</td>\n",
       "    </tr>\n",
       "    <tr>\n",
       "      <th>9996</th>\n",
       "      <td>19996</td>\n",
       "      <td>79.356234</td>\n",
       "    </tr>\n",
       "    <tr>\n",
       "      <th>9997</th>\n",
       "      <td>19997</td>\n",
       "      <td>55.017523</td>\n",
       "    </tr>\n",
       "    <tr>\n",
       "      <th>9998</th>\n",
       "      <td>19998</td>\n",
       "      <td>64.852713</td>\n",
       "    </tr>\n",
       "    <tr>\n",
       "      <th>9999</th>\n",
       "      <td>19999</td>\n",
       "      <td>64.400000</td>\n",
       "    </tr>\n",
       "  </tbody>\n",
       "</table>\n",
       "<p>10000 rows × 2 columns</p>\n",
       "</div>"
      ],
      "text/plain": [
       "         Id  mean_exam_points\n",
       "0     10000         55.017523\n",
       "1     10001         64.041096\n",
       "2     10002         49.918919\n",
       "3     10003         90.000000\n",
       "4     10004         89.618557\n",
       "...     ...               ...\n",
       "9995  19995         40.142857\n",
       "9996  19996         79.356234\n",
       "9997  19997         55.017523\n",
       "9998  19998         64.852713\n",
       "9999  19999         64.400000\n",
       "\n",
       "[10000 rows x 2 columns]"
      ]
     },
     "execution_count": 32,
     "metadata": {},
     "output_type": "execute_result"
    }
   ],
   "source": [
    "sub"
   ]
  },
  {
   "cell_type": "code",
   "execution_count": 33,
   "metadata": {},
   "outputs": [],
   "source": [
    "sub.to_csv('GradBoost_predict.csv', index=None)"
   ]
  }
 ],
 "metadata": {
  "kernelspec": {
   "display_name": "Python 3",
   "language": "python",
   "name": "python3"
  },
  "language_info": {
   "codemirror_mode": {
    "name": "ipython",
    "version": 3
   },
   "file_extension": ".py",
   "mimetype": "text/x-python",
   "name": "python",
   "nbconvert_exporter": "python",
   "pygments_lexer": "ipython3",
   "version": "3.8.4"
  }
 },
 "nbformat": 4,
 "nbformat_minor": 4
}
